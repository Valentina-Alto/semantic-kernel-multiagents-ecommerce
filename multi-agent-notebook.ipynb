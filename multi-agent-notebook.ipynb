{
 "cells": [
  {
   "attachments": {},
   "cell_type": "markdown",
   "metadata": {},
   "source": [
    "# Setup\n",
    "\n",
    "Import Semantic Kernel SDK from pypi.org"
   ]
  },
  {
   "cell_type": "code",
   "execution_count": 1,
   "metadata": {},
   "outputs": [
    {
     "name": "stdout",
     "output_type": "stream",
     "text": [
      "Requirement already satisfied: semantic-kernel in c:\\users\\vaalt\\appdata\\local\\anaconda3\\lib\\site-packages (1.24.0)\n",
      "Requirement already satisfied: aiohttp~=3.8 in c:\\users\\vaalt\\appdata\\local\\anaconda3\\lib\\site-packages (from semantic-kernel) (3.10.5)\n",
      "Requirement already satisfied: cloudevents~=1.0 in c:\\users\\vaalt\\appdata\\local\\anaconda3\\lib\\site-packages (from semantic-kernel) (1.11.0)\n",
      "Requirement already satisfied: pydantic!=2.10.0,!=2.10.1,!=2.10.2,!=2.10.3,<2.11,>=2.0 in c:\\users\\vaalt\\appdata\\local\\anaconda3\\lib\\site-packages (from semantic-kernel) (2.10.6)\n",
      "Requirement already satisfied: pydantic-settings~=2.0 in c:\\users\\vaalt\\appdata\\local\\anaconda3\\lib\\site-packages (from semantic-kernel) (2.4.0)\n",
      "Requirement already satisfied: defusedxml~=0.7 in c:\\users\\vaalt\\appdata\\local\\anaconda3\\lib\\site-packages (from semantic-kernel) (0.7.1)\n",
      "Requirement already satisfied: azure-identity~=1.13 in c:\\users\\vaalt\\appdata\\local\\anaconda3\\lib\\site-packages (from semantic-kernel) (1.17.1)\n",
      "Requirement already satisfied: numpy>=1.26.0 in c:\\users\\vaalt\\appdata\\local\\anaconda3\\lib\\site-packages (from semantic-kernel) (1.26.4)\n",
      "Requirement already satisfied: openai~=1.61 in c:\\users\\vaalt\\appdata\\local\\anaconda3\\lib\\site-packages (from semantic-kernel) (1.61.1)\n",
      "Requirement already satisfied: openapi_core<0.20,>=0.18 in c:\\users\\vaalt\\appdata\\local\\anaconda3\\lib\\site-packages (from semantic-kernel) (0.19.4)\n",
      "Requirement already satisfied: websockets<15,>=13 in c:\\users\\vaalt\\appdata\\local\\anaconda3\\lib\\site-packages (from semantic-kernel) (14.2)\n",
      "Requirement already satisfied: aiortc>=1.9.0 in c:\\users\\vaalt\\appdata\\local\\anaconda3\\lib\\site-packages (from semantic-kernel) (1.10.1)\n",
      "Requirement already satisfied: opentelemetry-api~=1.24 in c:\\users\\vaalt\\appdata\\local\\anaconda3\\lib\\site-packages (from semantic-kernel) (1.30.0)\n",
      "Requirement already satisfied: opentelemetry-sdk~=1.24 in c:\\users\\vaalt\\appdata\\local\\anaconda3\\lib\\site-packages (from semantic-kernel) (1.30.0)\n",
      "Requirement already satisfied: prance~=23.6.21.0 in c:\\users\\vaalt\\appdata\\local\\anaconda3\\lib\\site-packages (from semantic-kernel) (23.6.21.0)\n",
      "Requirement already satisfied: pybars4~=0.9 in c:\\users\\vaalt\\appdata\\local\\anaconda3\\lib\\site-packages (from semantic-kernel) (0.9.13)\n",
      "Requirement already satisfied: jinja2~=3.1 in c:\\users\\vaalt\\appdata\\local\\anaconda3\\lib\\site-packages (from semantic-kernel) (3.1.4)\n",
      "Requirement already satisfied: nest-asyncio~=1.6 in c:\\users\\vaalt\\appdata\\local\\anaconda3\\lib\\site-packages (from semantic-kernel) (1.6.0)\n",
      "Requirement already satisfied: scipy>=1.15.1 in c:\\users\\vaalt\\appdata\\local\\anaconda3\\lib\\site-packages (from semantic-kernel) (1.15.1)\n",
      "Requirement already satisfied: aiohappyeyeballs>=2.3.0 in c:\\users\\vaalt\\appdata\\local\\anaconda3\\lib\\site-packages (from aiohttp~=3.8->semantic-kernel) (2.4.3)\n",
      "Requirement already satisfied: aiosignal>=1.1.2 in c:\\users\\vaalt\\appdata\\local\\anaconda3\\lib\\site-packages (from aiohttp~=3.8->semantic-kernel) (1.2.0)\n",
      "Requirement already satisfied: attrs>=17.3.0 in c:\\users\\vaalt\\appdata\\local\\anaconda3\\lib\\site-packages (from aiohttp~=3.8->semantic-kernel) (23.2.0)\n",
      "Requirement already satisfied: frozenlist>=1.1.1 in c:\\users\\vaalt\\appdata\\local\\anaconda3\\lib\\site-packages (from aiohttp~=3.8->semantic-kernel) (1.4.0)\n",
      "Requirement already satisfied: multidict<7.0,>=4.5 in c:\\users\\vaalt\\appdata\\local\\anaconda3\\lib\\site-packages (from aiohttp~=3.8->semantic-kernel) (6.0.4)\n",
      "Requirement already satisfied: yarl<2.0,>=1.0 in c:\\users\\vaalt\\appdata\\local\\anaconda3\\lib\\site-packages (from aiohttp~=3.8->semantic-kernel) (1.9.3)\n",
      "Requirement already satisfied: aioice<1.0.0,>=0.9.0 in c:\\users\\vaalt\\appdata\\local\\anaconda3\\lib\\site-packages (from aiortc>=1.9.0->semantic-kernel) (0.9.0)\n",
      "Requirement already satisfied: av<14.0.0,>=9.0.0 in c:\\users\\vaalt\\appdata\\local\\anaconda3\\lib\\site-packages (from aiortc>=1.9.0->semantic-kernel) (13.1.0)\n",
      "Requirement already satisfied: cffi>=1.0.0 in c:\\users\\vaalt\\appdata\\local\\anaconda3\\lib\\site-packages (from aiortc>=1.9.0->semantic-kernel) (1.16.0)\n",
      "Requirement already satisfied: cryptography>=42.0.0 in c:\\users\\vaalt\\appdata\\local\\anaconda3\\lib\\site-packages (from aiortc>=1.9.0->semantic-kernel) (42.0.8)\n",
      "Requirement already satisfied: google-crc32c>=1.1 in c:\\users\\vaalt\\appdata\\local\\anaconda3\\lib\\site-packages (from aiortc>=1.9.0->semantic-kernel) (1.6.0)\n",
      "Requirement already satisfied: pyee>=9.0.0 in c:\\users\\vaalt\\appdata\\local\\anaconda3\\lib\\site-packages (from aiortc>=1.9.0->semantic-kernel) (12.1.1)\n",
      "Requirement already satisfied: pylibsrtp>=0.10.0 in c:\\users\\vaalt\\appdata\\local\\anaconda3\\lib\\site-packages (from aiortc>=1.9.0->semantic-kernel) (0.11.0)\n",
      "Requirement already satisfied: pyopenssl>=24.0.0 in c:\\users\\vaalt\\appdata\\local\\anaconda3\\lib\\site-packages (from aiortc>=1.9.0->semantic-kernel) (24.0.0)\n",
      "Requirement already satisfied: azure-core>=1.23.0 in c:\\users\\vaalt\\appdata\\local\\anaconda3\\lib\\site-packages (from azure-identity~=1.13->semantic-kernel) (1.32.0)\n",
      "Requirement already satisfied: msal>=1.24.0 in c:\\users\\vaalt\\appdata\\local\\anaconda3\\lib\\site-packages (from azure-identity~=1.13->semantic-kernel) (1.31.0)\n",
      "Requirement already satisfied: msal-extensions>=0.3.0 in c:\\users\\vaalt\\appdata\\local\\anaconda3\\lib\\site-packages (from azure-identity~=1.13->semantic-kernel) (1.2.0)\n",
      "Requirement already satisfied: typing-extensions>=4.0.0 in c:\\users\\vaalt\\appdata\\local\\anaconda3\\lib\\site-packages (from azure-identity~=1.13->semantic-kernel) (4.12.2)\n",
      "Requirement already satisfied: deprecation<3.0,>=2.0 in c:\\users\\vaalt\\appdata\\local\\anaconda3\\lib\\site-packages (from cloudevents~=1.0->semantic-kernel) (2.1.0)\n",
      "Requirement already satisfied: MarkupSafe>=2.0 in c:\\users\\vaalt\\appdata\\local\\anaconda3\\lib\\site-packages (from jinja2~=3.1->semantic-kernel) (3.0.2)\n",
      "Requirement already satisfied: anyio<5,>=3.5.0 in c:\\users\\vaalt\\appdata\\local\\anaconda3\\lib\\site-packages (from openai~=1.61->semantic-kernel) (4.8.0)\n",
      "Requirement already satisfied: distro<2,>=1.7.0 in c:\\users\\vaalt\\appdata\\local\\anaconda3\\lib\\site-packages (from openai~=1.61->semantic-kernel) (1.9.0)\n",
      "Requirement already satisfied: httpx<1,>=0.23.0 in c:\\users\\vaalt\\appdata\\local\\anaconda3\\lib\\site-packages (from openai~=1.61->semantic-kernel) (0.27.2)\n",
      "Requirement already satisfied: jiter<1,>=0.4.0 in c:\\users\\vaalt\\appdata\\local\\anaconda3\\lib\\site-packages (from openai~=1.61->semantic-kernel) (0.4.2)\n",
      "Requirement already satisfied: sniffio in c:\\users\\vaalt\\appdata\\local\\anaconda3\\lib\\site-packages (from openai~=1.61->semantic-kernel) (1.3.0)\n",
      "Requirement already satisfied: tqdm>4 in c:\\users\\vaalt\\appdata\\local\\anaconda3\\lib\\site-packages (from openai~=1.61->semantic-kernel) (4.66.4)\n",
      "Requirement already satisfied: isodate in c:\\users\\vaalt\\appdata\\local\\anaconda3\\lib\\site-packages (from openapi_core<0.20,>=0.18->semantic-kernel) (0.6.1)\n",
      "Requirement already satisfied: jsonschema<5.0.0,>=4.18.0 in c:\\users\\vaalt\\appdata\\local\\anaconda3\\lib\\site-packages (from openapi_core<0.20,>=0.18->semantic-kernel) (4.23.0)\n",
      "Requirement already satisfied: jsonschema-path<0.4.0,>=0.3.1 in c:\\users\\vaalt\\appdata\\local\\anaconda3\\lib\\site-packages (from openapi_core<0.20,>=0.18->semantic-kernel) (0.3.3)\n",
      "Requirement already satisfied: more-itertools in c:\\users\\vaalt\\appdata\\local\\anaconda3\\lib\\site-packages (from openapi_core<0.20,>=0.18->semantic-kernel) (10.1.0)\n",
      "Requirement already satisfied: openapi-schema-validator<0.7.0,>=0.6.0 in c:\\users\\vaalt\\appdata\\local\\anaconda3\\lib\\site-packages (from openapi_core<0.20,>=0.18->semantic-kernel) (0.6.2)\n",
      "Requirement already satisfied: openapi-spec-validator<0.8.0,>=0.7.1 in c:\\users\\vaalt\\appdata\\local\\anaconda3\\lib\\site-packages (from openapi_core<0.20,>=0.18->semantic-kernel) (0.7.1)\n",
      "Requirement already satisfied: parse in c:\\users\\vaalt\\appdata\\local\\anaconda3\\lib\\site-packages (from openapi_core<0.20,>=0.18->semantic-kernel) (1.20.2)\n",
      "Requirement already satisfied: werkzeug in c:\\users\\vaalt\\appdata\\local\\anaconda3\\lib\\site-packages (from openapi_core<0.20,>=0.18->semantic-kernel) (3.1.3)\n",
      "Requirement already satisfied: deprecated>=1.2.6 in c:\\users\\vaalt\\appdata\\local\\anaconda3\\lib\\site-packages (from opentelemetry-api~=1.24->semantic-kernel) (1.2.14)\n",
      "Requirement already satisfied: importlib-metadata<=8.5.0,>=6.0 in c:\\users\\vaalt\\appdata\\local\\anaconda3\\lib\\site-packages (from opentelemetry-api~=1.24->semantic-kernel) (6.11.0)\n",
      "Requirement already satisfied: opentelemetry-semantic-conventions==0.51b0 in c:\\users\\vaalt\\appdata\\local\\anaconda3\\lib\\site-packages (from opentelemetry-sdk~=1.24->semantic-kernel) (0.51b0)\n",
      "Requirement already satisfied: chardet>=3.0 in c:\\users\\vaalt\\appdata\\local\\anaconda3\\lib\\site-packages (from prance~=23.6.21.0->semantic-kernel) (5.2.0)\n",
      "Requirement already satisfied: ruamel.yaml>=0.17.10 in c:\\users\\vaalt\\appdata\\local\\anaconda3\\lib\\site-packages (from prance~=23.6.21.0->semantic-kernel) (0.17.21)\n",
      "Requirement already satisfied: requests>=2.25 in c:\\users\\vaalt\\appdata\\local\\anaconda3\\lib\\site-packages (from prance~=23.6.21.0->semantic-kernel) (2.32.3)\n",
      "Requirement already satisfied: six~=1.15 in c:\\users\\vaalt\\appdata\\local\\anaconda3\\lib\\site-packages (from prance~=23.6.21.0->semantic-kernel) (1.16.0)\n",
      "Requirement already satisfied: packaging>=21.3 in c:\\users\\vaalt\\appdata\\local\\anaconda3\\lib\\site-packages (from prance~=23.6.21.0->semantic-kernel) (24.2)\n",
      "Requirement already satisfied: PyMeta3>=0.5.1 in c:\\users\\vaalt\\appdata\\local\\anaconda3\\lib\\site-packages (from pybars4~=0.9->semantic-kernel) (0.5.1)\n",
      "Requirement already satisfied: annotated-types>=0.6.0 in c:\\users\\vaalt\\appdata\\local\\anaconda3\\lib\\site-packages (from pydantic!=2.10.0,!=2.10.1,!=2.10.2,!=2.10.3,<2.11,>=2.0->semantic-kernel) (0.6.0)\n",
      "Requirement already satisfied: pydantic-core==2.27.2 in c:\\users\\vaalt\\appdata\\local\\anaconda3\\lib\\site-packages (from pydantic!=2.10.0,!=2.10.1,!=2.10.2,!=2.10.3,<2.11,>=2.0->semantic-kernel) (2.27.2)\n",
      "Requirement already satisfied: python-dotenv>=0.21.0 in c:\\users\\vaalt\\appdata\\local\\anaconda3\\lib\\site-packages (from pydantic-settings~=2.0->semantic-kernel) (1.0.1)\n",
      "Requirement already satisfied: dnspython>=2.0.0 in c:\\users\\vaalt\\appdata\\local\\anaconda3\\lib\\site-packages (from aioice<1.0.0,>=0.9.0->aiortc>=1.9.0->semantic-kernel) (2.7.0)\n",
      "Requirement already satisfied: ifaddr>=0.2.0 in c:\\users\\vaalt\\appdata\\local\\anaconda3\\lib\\site-packages (from aioice<1.0.0,>=0.9.0->aiortc>=1.9.0->semantic-kernel) (0.2.0)\n",
      "Requirement already satisfied: idna>=2.8 in c:\\users\\vaalt\\appdata\\local\\anaconda3\\lib\\site-packages (from anyio<5,>=3.5.0->openai~=1.61->semantic-kernel) (3.7)\n",
      "Requirement already satisfied: pycparser in c:\\users\\vaalt\\appdata\\local\\anaconda3\\lib\\site-packages (from cffi>=1.0.0->aiortc>=1.9.0->semantic-kernel) (2.21)\n",
      "Requirement already satisfied: wrapt<2,>=1.10 in c:\\users\\vaalt\\appdata\\local\\anaconda3\\lib\\site-packages (from deprecated>=1.2.6->opentelemetry-api~=1.24->semantic-kernel) (1.14.1)\n",
      "Requirement already satisfied: certifi in c:\\users\\vaalt\\appdata\\local\\anaconda3\\lib\\site-packages (from httpx<1,>=0.23.0->openai~=1.61->semantic-kernel) (2024.8.30)\n",
      "Requirement already satisfied: httpcore==1.* in c:\\users\\vaalt\\appdata\\local\\anaconda3\\lib\\site-packages (from httpx<1,>=0.23.0->openai~=1.61->semantic-kernel) (1.0.7)\n",
      "Requirement already satisfied: h11<0.15,>=0.13 in c:\\users\\vaalt\\appdata\\local\\anaconda3\\lib\\site-packages (from httpcore==1.*->httpx<1,>=0.23.0->openai~=1.61->semantic-kernel) (0.14.0)\n",
      "Requirement already satisfied: zipp>=0.5 in c:\\users\\vaalt\\appdata\\local\\anaconda3\\lib\\site-packages (from importlib-metadata<=8.5.0,>=6.0->opentelemetry-api~=1.24->semantic-kernel) (3.17.0)\n",
      "Requirement already satisfied: jsonschema-specifications>=2023.03.6 in c:\\users\\vaalt\\appdata\\local\\anaconda3\\lib\\site-packages (from jsonschema<5.0.0,>=4.18.0->openapi_core<0.20,>=0.18->semantic-kernel) (2023.7.1)\n",
      "Requirement already satisfied: referencing>=0.28.4 in c:\\users\\vaalt\\appdata\\local\\anaconda3\\lib\\site-packages (from jsonschema<5.0.0,>=4.18.0->openapi_core<0.20,>=0.18->semantic-kernel) (0.30.2)\n",
      "Requirement already satisfied: rpds-py>=0.7.1 in c:\\users\\vaalt\\appdata\\local\\anaconda3\\lib\\site-packages (from jsonschema<5.0.0,>=4.18.0->openapi_core<0.20,>=0.18->semantic-kernel) (0.10.6)\n",
      "Requirement already satisfied: PyYAML>=5.1 in c:\\users\\vaalt\\appdata\\local\\anaconda3\\lib\\site-packages (from jsonschema-path<0.4.0,>=0.3.1->openapi_core<0.20,>=0.18->semantic-kernel) (6.0.1)\n",
      "Requirement already satisfied: pathable<0.5.0,>=0.4.1 in c:\\users\\vaalt\\appdata\\local\\anaconda3\\lib\\site-packages (from jsonschema-path<0.4.0,>=0.3.1->openapi_core<0.20,>=0.18->semantic-kernel) (0.4.3)\n",
      "Requirement already satisfied: PyJWT<3,>=1.0.0 in c:\\users\\vaalt\\appdata\\local\\anaconda3\\lib\\site-packages (from PyJWT[crypto]<3,>=1.0.0->msal>=1.24.0->azure-identity~=1.13->semantic-kernel) (2.8.0)\n",
      "Requirement already satisfied: portalocker<3,>=1.4 in c:\\users\\vaalt\\appdata\\local\\anaconda3\\lib\\site-packages (from msal-extensions>=0.3.0->azure-identity~=1.13->semantic-kernel) (2.10.1)\n",
      "Requirement already satisfied: rfc3339-validator in c:\\users\\vaalt\\appdata\\local\\anaconda3\\lib\\site-packages (from openapi-schema-validator<0.7.0,>=0.6.0->openapi_core<0.20,>=0.18->semantic-kernel) (0.1.4)\n",
      "Requirement already satisfied: lazy-object-proxy<2.0.0,>=1.7.1 in c:\\users\\vaalt\\appdata\\local\\anaconda3\\lib\\site-packages (from openapi-spec-validator<0.8.0,>=0.7.1->openapi_core<0.20,>=0.18->semantic-kernel) (1.10.0)\n",
      "Requirement already satisfied: charset-normalizer<4,>=2 in c:\\users\\vaalt\\appdata\\local\\anaconda3\\lib\\site-packages (from requests>=2.25->prance~=23.6.21.0->semantic-kernel) (3.4.1)\n",
      "Requirement already satisfied: urllib3<3,>=1.21.1 in c:\\users\\vaalt\\appdata\\local\\anaconda3\\lib\\site-packages (from requests>=2.25->prance~=23.6.21.0->semantic-kernel) (2.2.2)\n",
      "Requirement already satisfied: colorama in c:\\users\\vaalt\\appdata\\local\\anaconda3\\lib\\site-packages (from tqdm>4->openai~=1.61->semantic-kernel) (0.4.6)\n",
      "Requirement already satisfied: pywin32>=226 in c:\\users\\vaalt\\appdata\\local\\anaconda3\\lib\\site-packages (from portalocker<3,>=1.4->msal-extensions>=0.3.0->azure-identity~=1.13->semantic-kernel) (306)\n",
      "Note: you may need to restart the kernel to use updated packages.\n"
     ]
    },
    {
     "data": {
      "text/plain": [
       "'1.24.0'"
      ]
     },
     "execution_count": 1,
     "metadata": {},
     "output_type": "execute_result"
    }
   ],
   "source": [
    "# Note: if using a virtual environment, do not run this cell\n",
    "%pip install -U semantic-kernel\n",
    "from semantic_kernel import __version__\n",
    "\n",
    "__version__"
   ]
  },
  {
   "cell_type": "markdown",
   "metadata": {},
   "source": [
    "# Agent"
   ]
  },
  {
   "cell_type": "code",
   "execution_count": 26,
   "metadata": {},
   "outputs": [],
   "source": [
    "import asyncio\n",
    "from typing import Annotated\n",
    "\n",
    "from semantic_kernel import Kernel\n",
    "from semantic_kernel.agents import ChatCompletionAgent\n",
    "from semantic_kernel.connectors.ai import FunctionChoiceBehavior\n",
    "from semantic_kernel.connectors.ai.open_ai import AzureChatCompletion\n",
    "from semantic_kernel.contents import ChatHistory, FunctionCallContent, FunctionResultContent\n",
    "from semantic_kernel.functions import KernelArguments, kernel_function"
   ]
  },
  {
   "cell_type": "code",
   "execution_count": 42,
   "metadata": {},
   "outputs": [],
   "source": [
    "def _create_kernel_with_chat_completion(service_id: str) -> Kernel:\n",
    "    kernel = Kernel()\n",
    "    kernel.add_service(AzureChatCompletion(service_id=service_id))\n",
    "    return kernel"
   ]
  },
  {
   "cell_type": "code",
   "execution_count": 41,
   "metadata": {},
   "outputs": [],
   "source": [
    "import yaml\n",
    "\n",
    "def create_chat_completion_agent(kernel: Kernel, definition_file_path: str, plugins: list) -> ChatCompletionAgent:\n",
    "    with open(definition_file_path, 'r') as file:\n",
    "        definition = yaml.safe_load(file)\n",
    "\n",
    "    return ChatCompletionAgent(\n",
    "        kernel=kernel,\n",
    "        name=definition['name'],\n",
    "        plugins = plugins,\n",
    "        description=definition['description'],\n",
    "        instructions=definition['instructions']\n",
    "    )"
   ]
  },
  {
   "cell_type": "markdown",
   "metadata": {},
   "source": [
    "## SQL Agent"
   ]
  },
  {
   "cell_type": "code",
   "execution_count": null,
   "metadata": {},
   "outputs": [],
   "source": [
    "import sqlite3\n",
    "import pandas as pd\n",
    "\n",
    "# Sample data for the climbing product catalog\n",
    "data = {\n",
    "    \"Product ID\": [\"P001\", \"P002\", \"P003\", \"P004\", \"P005\"],\n",
    "    \"Product Name\": [\"Climbing Rope\", \"Climbing Shoes\", \"Carabiner\", \"Harness\", \"Chalk Bag\"],\n",
    "    \"Category\": [\"Ropes\", \"Shoes\", \"Hardware\", \"Harnesses\", \"Accessories\"],\n",
    "    \"Price\": [100, 150, 20, 75, 15],\n",
    "    \"Stock\": [50, 30, 100, 40, 200],\n",
    "    \"Description\": [\n",
    "        \"Durable and strong climbing rope suitable for all terrains.\",\n",
    "        \"High-performance climbing shoes for advanced climbers.\",\n",
    "        \"Lightweight and secure carabiner for all climbing needs.\",\n",
    "        \"Comfortable and adjustable harness for safety.\",\n",
    "        \"Compact and durable chalk bag for better grip.\"\n",
    "    ]\n",
    "}\n",
    "\n",
    "# Converting the dictionary to a DataFrame\n",
    "df = pd.DataFrame(data)\n",
    "\n",
    "# Connecting to a SQLite database (it will create a new one if it doesn't exist)\n",
    "conn = sqlite3.connect('climbing_product_catalog.db')\n",
    "\n",
    "# Storing the DataFrame in the SQLite database\n",
    "df.to_sql('product_catalog', conn, index=False, if_exists='replace')\n",
    "\n",
    "# Committing and closing the connection\n",
    "conn.commit()\n",
    "conn.close()"
   ]
  },
  {
   "cell_type": "code",
   "execution_count": null,
   "metadata": {},
   "outputs": [],
   "source": []
  },
  {
   "cell_type": "code",
   "execution_count": 108,
   "metadata": {},
   "outputs": [],
   "source": [
    "from Plugins.queryDb import QueryDbPlugin\n",
    "\n",
    "sql_agent = create_chat_completion_agent(\n",
    "    kernel = _create_kernel_with_chat_completion('sql_agent'),\n",
    "    definition_file_path = \"Prompts/sql.yaml\",\n",
    "    plugins=[QueryDbPlugin('climbing_product_catalog.db')]\n",
    ")"
   ]
  },
  {
   "cell_type": "code",
   "execution_count": 109,
   "metadata": {},
   "outputs": [
    {
     "data": {
      "text/plain": [
       "'There are 420 products currently in stock.'"
      ]
     },
     "execution_count": 109,
     "metadata": {},
     "output_type": "execute_result"
    }
   ],
   "source": [
    "# Define the chat history\n",
    "from semantic_kernel.contents import ChatHistory\n",
    "chat = ChatHistory()\n",
    "\n",
    "# Add the user message\n",
    "chat.add_user_message(\"how many products are in stock?\")\n",
    "\n",
    "\n",
    "# Generate the agent response\n",
    "response = await sql_agent.get_response(chat)\n",
    "response.content"
   ]
  },
  {
   "cell_type": "markdown",
   "metadata": {},
   "source": [
    "## Concierge Agent"
   ]
  },
  {
   "cell_type": "code",
   "execution_count": 67,
   "metadata": {},
   "outputs": [],
   "source": [
    "concierge_agent = create_chat_completion_agent(\n",
    "    kernel = _create_kernel_with_chat_completion('concierge_agent'),\n",
    "    definition_file_path = \"Prompts/concierge.yaml\",\n",
    "    plugins=[]\n",
    ")"
   ]
  },
  {
   "cell_type": "markdown",
   "metadata": {},
   "source": [
    "## Cart Agent"
   ]
  },
  {
   "cell_type": "code",
   "execution_count": 65,
   "metadata": {},
   "outputs": [],
   "source": [
    "from Plugins.cart_plugin import CartPlugin\n",
    "\n",
    "\n",
    "cart_agent = create_chat_completion_agent(\n",
    "    kernel = _create_kernel_with_chat_completion('cart_agent'),\n",
    "    definition_file_path = \"Prompts/cart.yaml\",\n",
    "    plugins=[CartPlugin('http://localhost:3000')]\n",
    ")"
   ]
  },
  {
   "cell_type": "code",
   "execution_count": 66,
   "metadata": {},
   "outputs": [
    {
     "data": {
      "text/plain": [
       "'Climbing shoes have been added to your cart for $100. Is there anything else you would like to add to your cart or are you ready to check out?'"
      ]
     },
     "execution_count": 66,
     "metadata": {},
     "output_type": "execute_result"
    }
   ],
   "source": [
    "# Define the chat history\n",
    "from semantic_kernel.contents import ChatHistory\n",
    "chat = ChatHistory()\n",
    "\n",
    "# Add the user message\n",
    "chat.add_user_message(\"add climbing shoes to my cart, cost is 100$\")\n",
    "\n",
    "\n",
    "# Generate the agent response\n",
    "response = await concierge_agent.get_response(chat)\n",
    "response.content"
   ]
  },
  {
   "cell_type": "markdown",
   "metadata": {},
   "source": [
    "# Group chat"
   ]
  },
  {
   "cell_type": "code",
   "execution_count": 121,
   "metadata": {},
   "outputs": [],
   "source": [
    "import asyncio\n",
    "import os\n",
    "\n",
    "from semantic_kernel import Kernel\n",
    "from semantic_kernel.agents import AgentGroupChat, ChatCompletionAgent\n",
    "from semantic_kernel.agents.strategies import (\n",
    "    KernelFunctionSelectionStrategy,\n",
    "    KernelFunctionTerminationStrategy,\n",
    ")\n",
    "from semantic_kernel.connectors.ai.open_ai import AzureChatCompletion\n",
    "from semantic_kernel.contents import ChatHistoryTruncationReducer\n",
    "from semantic_kernel.functions import KernelFunctionFromPrompt\n",
    "\n",
    "history_reducer = ChatHistoryTruncationReducer(target_count=1)"
   ]
  },
  {
   "cell_type": "code",
   "execution_count": 97,
   "metadata": {},
   "outputs": [],
   "source": [
    "import asyncio\n",
    "\n",
    "from semantic_kernel import Kernel\n",
    "from semantic_kernel.agents import AgentGroupChat, ChatCompletionAgent\n",
    "from semantic_kernel.agents.strategies import TerminationStrategy\n",
    "from semantic_kernel.connectors.ai.open_ai import AzureChatCompletion\n",
    "\n",
    "class ApprovalTerminationStrategy(TerminationStrategy):\n",
    "    \"\"\"A strategy for determining when an agent should terminate.\"\"\"\n",
    "\n",
    "    async def should_agent_terminate(self, agent, history):\n",
    "        \"\"\"Check if the agent should terminate.\"\"\"\n",
    "        return \"approved\" in history[-1].content.lower()"
   ]
  },
  {
   "cell_type": "code",
   "execution_count": 120,
   "metadata": {},
   "outputs": [],
   "source": [
    "selection_function = KernelFunctionFromPrompt(\n",
    "    function_name=\"selection\", \n",
    "    prompt=f\"\"\"\n",
    "Examine the provided RESPONSE and choose the next participant.\n",
    "State only the name of the chosen participant without explanation.\n",
    "\n",
    "\n",
    "Choose only from these participants:\n",
    "- {concierge_agent}\n",
    "- {sql_agent}\n",
    "- {cart_agent}\n",
    "\n",
    "Rules:\n",
    "- {concierge_agent} is the one greeting the user and invoking the other agents when needed.\n",
    "- {sql_agent} is the one that can query the database and return the results whenever user asks about available items.\n",
    "- {cart_agent} is the one that can add items to the cart.\n",
    "- {concierge_agent} will always make sure whether the user is happy with the result or not.\n",
    "\n",
    "\n",
    "RESPONSE:\n",
    "{{{{$lastmessage}}}}\n",
    "\"\"\"\n",
    ")"
   ]
  },
  {
   "cell_type": "code",
   "execution_count": 112,
   "metadata": {},
   "outputs": [],
   "source": [
    "termination_keyword = \"yes\"\n",
    "\n",
    "termination_function = KernelFunctionFromPrompt(\n",
    "    function_name=\"termination\", \n",
    "    prompt=f\"\"\"\n",
    "Examine the RESPONSE and determine whether the content has been deemed satisfactory.\n",
    "If the content is satisfactory, respond with a single word without explanation: {termination_keyword}.\n",
    "If specific suggestions are being provided, it is not satisfactory.\n",
    "If no correction is suggested, it is satisfactory.\n",
    "\n",
    "RESPONSE:\n",
    "{{{{$lastmessage}}}}\n",
    "\"\"\"\n",
    ")"
   ]
  },
  {
   "cell_type": "code",
   "execution_count": 122,
   "metadata": {},
   "outputs": [],
   "source": [
    "agents=[concierge_agent, sql_agent, cart_agent]\n",
    "\n",
    "chat = AgentGroupChat(\n",
    "    agents=agents,\n",
    "    selection_strategy=KernelFunctionSelectionStrategy(\n",
    "        initial_agent=concierge_agent,\n",
    "        function=selection_function,\n",
    "        kernel=_create_kernel_with_chat_completion('selection_function'),\n",
    "        result_parser=lambda result: str(result.value[0]).strip() if result.value[0] is not None else WRITER_NAME,\n",
    "        history_variable_name=\"lastmessage\",\n",
    "        history_reducer=history_reducer,\n",
    "    ),\n",
    "    termination_strategy=KernelFunctionTerminationStrategy(\n",
    "        agents=[concierge_agent],\n",
    "        function=termination_function,\n",
    "        kernel=_create_kernel_with_chat_completion('termination_function'),\n",
    "        result_parser=lambda result: termination_keyword in str(result.value[0]).lower(),\n",
    "        history_variable_name=\"lastmessage\",\n",
    "        maximum_iterations=10,\n",
    "        history_reducer=history_reducer,\n",
    "    ),\n",
    ")"
   ]
  },
  {
   "cell_type": "code",
   "execution_count": 123,
   "metadata": {},
   "outputs": [
    {
     "name": "stdout",
     "output_type": "stream",
     "text": [
      "# User: ji\n",
      "# concierge_agent: Hello! Thanks for reaching out. How can I assist you with your climbing gear needs today? Are you looking for any specific type of climbing gear or have any particular preferences in mind?\n",
      "# User: list me the products\n",
      "# sql_agent: Here is a list of products available in our catalog:\n",
      "\n",
      "1. **Climbing Rope**\n",
      "   - Product ID: P001\n",
      "   - Category: Ropes\n",
      "   - Price: $100.00\n",
      "   - Stock: 50\n",
      "   - Description: Durable and strong climbing rope suitable for all terrains.\n",
      "\n",
      "2. **Climbing Shoes**\n",
      "   - Product ID: P002\n",
      "   - Category: Shoes\n",
      "   - Price: $150.00\n",
      "   - Stock: 30\n",
      "   - Description: High-performance climbing shoes for advanced climbers.\n",
      "\n",
      "3. **Carabiner**\n",
      "   - Product ID: P003\n",
      "   - Category: Hardware\n",
      "   - Price: $20.00\n",
      "   - Stock: 100\n",
      "   - Description: Lightweight and secure carabiner for all climbing needs.\n",
      "\n",
      "4. **Harness**\n",
      "   - Product ID: P004\n",
      "   - Category: Harnesses\n",
      "   - Price: $75.00\n",
      "   - Stock: 40\n",
      "   - Description: Comfortable and adjustable harness for safety.\n",
      "\n",
      "5. **Chalk Bag**\n",
      "   - Product ID: P005\n",
      "   - Category: Accessories\n",
      "   - Price: $15.00\n",
      "   - Stock: 200\n",
      "   - Description: Compact and durable chalk bag for better grip.\n",
      "\n",
      "If you need more information or have a specific product in mind, feel free to ask!\n",
      "# concierge_agent: Could you let me know what specific items you might be looking for or any particular preferences you have? This way, I can give more tailored recommendations to better suit your needs.\n",
      "# User: what is the chalk bag\n",
      "# concierge_agent: The **Chalk Bag** available in our catalog has the following details:\n",
      "\n",
      "- **Product ID:** P005\n",
      "- **Category:** Accessories\n",
      "- **Price:** $15.00\n",
      "- **Stock:** 200\n",
      "- **Description:** Compact and durable chalk bag for better grip.\n",
      "\n",
      "Chalk bags are used to carry chalk, which climbers apply to their hands to keep them dry and improve grip while climbing. Our chalk bag is designed to be compact and durable, providing you with a practical solution to carry your chalk during climbs.\n",
      "\n",
      "If you need more detailed information or have any other questions, please let me know!\n",
      "# User: ok can you add it to the cart?\n",
      "# cart_agent: The **Chalk Bag** has been successfully added to your cart. If you need anything else or are ready to check out, please let me know!\n",
      "# concierge_agent: Is there any other climbing gear you are interested in, or do you need assistance with anything else?\n",
      "# User: no thanks I'm fine!\n",
      "# concierge_agent: Great! If you have any more questions or need assistance in the future, feel free to reach out. Happy climbing!\n",
      "Exiting chat...\n"
     ]
    }
   ],
   "source": [
    "import asyncio\n",
    "is_complete = False\n",
    "async def main():\n",
    "    while not is_complete:\n",
    "        # Get user input\n",
    "        user_input = input(\"You: \")\n",
    "\n",
    "        # Exit the loop if the user types 'exit'\n",
    "        if user_input.lower() == 'exit':\n",
    "            print(\"Exiting chat...\")\n",
    "            break\n",
    "        if user_input.lower() == \"reset\":\n",
    "            await chat.reset()\n",
    "            print(\"[Conversation has been reset]\")\n",
    "            continue\n",
    "\n",
    "        # Add the user input as a chat message\n",
    "        await chat.add_chat_message(message=user_input)\n",
    "        print(f\"# User: {user_input}\")\n",
    "\n",
    "        try:\n",
    "            # Invoke the chat and print the responses\n",
    "            async for content in chat.invoke():\n",
    "                print(f\"# {content.name}: {content.content}\")\n",
    "        except KeyError as e:\n",
    "            if \"Symbols.VAR_PREFIX: input\" in str(e):\n",
    "                print(\"Error: Required input variable not found in the KernelArguments.\")\n",
    "            else:\n",
    "                raise e\n",
    "        chat.is_complete = False\n",
    "\n",
    "# Run the main function\n",
    "await main()"
   ]
  }
 ],
 "metadata": {
  "kernelspec": {
   "display_name": "base",
   "language": "python",
   "name": "python3"
  },
  "language_info": {
   "codemirror_mode": {
    "name": "ipython",
    "version": 3
   },
   "file_extension": ".py",
   "mimetype": "text/x-python",
   "name": "python",
   "nbconvert_exporter": "python",
   "pygments_lexer": "ipython3",
   "version": "3.12.4"
  }
 },
 "nbformat": 4,
 "nbformat_minor": 2
}
