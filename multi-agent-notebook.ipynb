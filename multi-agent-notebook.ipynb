{
 "cells": [
  {
   "attachments": {},
   "cell_type": "markdown",
   "metadata": {},
   "source": [
    "# Setup\n",
    "\n",
    "Import Semantic Kernel SDK from pypi.org"
   ]
  },
  {
   "cell_type": "code",
   "execution_count": 1,
   "metadata": {},
   "outputs": [
    {
     "name": "stdout",
     "output_type": "stream",
     "text": [
      "Requirement already satisfied: semantic-kernel in c:\\users\\vaalt\\appdata\\local\\anaconda3\\lib\\site-packages (1.24.0)\n",
      "Requirement already satisfied: aiohttp~=3.8 in c:\\users\\vaalt\\appdata\\local\\anaconda3\\lib\\site-packages (from semantic-kernel) (3.10.5)\n",
      "Requirement already satisfied: cloudevents~=1.0 in c:\\users\\vaalt\\appdata\\local\\anaconda3\\lib\\site-packages (from semantic-kernel) (1.11.0)\n",
      "Requirement already satisfied: pydantic!=2.10.0,!=2.10.1,!=2.10.2,!=2.10.3,<2.11,>=2.0 in c:\\users\\vaalt\\appdata\\local\\anaconda3\\lib\\site-packages (from semantic-kernel) (2.10.6)\n",
      "Requirement already satisfied: pydantic-settings~=2.0 in c:\\users\\vaalt\\appdata\\local\\anaconda3\\lib\\site-packages (from semantic-kernel) (2.4.0)\n",
      "Requirement already satisfied: defusedxml~=0.7 in c:\\users\\vaalt\\appdata\\local\\anaconda3\\lib\\site-packages (from semantic-kernel) (0.7.1)\n",
      "Requirement already satisfied: azure-identity~=1.13 in c:\\users\\vaalt\\appdata\\local\\anaconda3\\lib\\site-packages (from semantic-kernel) (1.17.1)\n",
      "Requirement already satisfied: numpy>=1.26.0 in c:\\users\\vaalt\\appdata\\local\\anaconda3\\lib\\site-packages (from semantic-kernel) (1.26.4)\n",
      "Requirement already satisfied: openai~=1.61 in c:\\users\\vaalt\\appdata\\local\\anaconda3\\lib\\site-packages (from semantic-kernel) (1.61.1)\n",
      "Requirement already satisfied: openapi_core<0.20,>=0.18 in c:\\users\\vaalt\\appdata\\local\\anaconda3\\lib\\site-packages (from semantic-kernel) (0.19.4)\n",
      "Requirement already satisfied: websockets<15,>=13 in c:\\users\\vaalt\\appdata\\local\\anaconda3\\lib\\site-packages (from semantic-kernel) (14.2)\n",
      "Requirement already satisfied: aiortc>=1.9.0 in c:\\users\\vaalt\\appdata\\local\\anaconda3\\lib\\site-packages (from semantic-kernel) (1.10.1)\n",
      "Requirement already satisfied: opentelemetry-api~=1.24 in c:\\users\\vaalt\\appdata\\local\\anaconda3\\lib\\site-packages (from semantic-kernel) (1.30.0)\n",
      "Requirement already satisfied: opentelemetry-sdk~=1.24 in c:\\users\\vaalt\\appdata\\local\\anaconda3\\lib\\site-packages (from semantic-kernel) (1.30.0)\n",
      "Requirement already satisfied: prance~=23.6.21.0 in c:\\users\\vaalt\\appdata\\local\\anaconda3\\lib\\site-packages (from semantic-kernel) (23.6.21.0)\n",
      "Requirement already satisfied: pybars4~=0.9 in c:\\users\\vaalt\\appdata\\local\\anaconda3\\lib\\site-packages (from semantic-kernel) (0.9.13)\n",
      "Requirement already satisfied: jinja2~=3.1 in c:\\users\\vaalt\\appdata\\local\\anaconda3\\lib\\site-packages (from semantic-kernel) (3.1.4)\n",
      "Requirement already satisfied: nest-asyncio~=1.6 in c:\\users\\vaalt\\appdata\\local\\anaconda3\\lib\\site-packages (from semantic-kernel) (1.6.0)\n",
      "Requirement already satisfied: scipy>=1.15.1 in c:\\users\\vaalt\\appdata\\local\\anaconda3\\lib\\site-packages (from semantic-kernel) (1.15.1)\n",
      "Requirement already satisfied: aiohappyeyeballs>=2.3.0 in c:\\users\\vaalt\\appdata\\local\\anaconda3\\lib\\site-packages (from aiohttp~=3.8->semantic-kernel) (2.4.3)\n",
      "Requirement already satisfied: aiosignal>=1.1.2 in c:\\users\\vaalt\\appdata\\local\\anaconda3\\lib\\site-packages (from aiohttp~=3.8->semantic-kernel) (1.2.0)\n",
      "Requirement already satisfied: attrs>=17.3.0 in c:\\users\\vaalt\\appdata\\local\\anaconda3\\lib\\site-packages (from aiohttp~=3.8->semantic-kernel) (23.2.0)\n",
      "Requirement already satisfied: frozenlist>=1.1.1 in c:\\users\\vaalt\\appdata\\local\\anaconda3\\lib\\site-packages (from aiohttp~=3.8->semantic-kernel) (1.4.0)\n",
      "Requirement already satisfied: multidict<7.0,>=4.5 in c:\\users\\vaalt\\appdata\\local\\anaconda3\\lib\\site-packages (from aiohttp~=3.8->semantic-kernel) (6.0.4)\n",
      "Requirement already satisfied: yarl<2.0,>=1.0 in c:\\users\\vaalt\\appdata\\local\\anaconda3\\lib\\site-packages (from aiohttp~=3.8->semantic-kernel) (1.9.3)\n",
      "Requirement already satisfied: aioice<1.0.0,>=0.9.0 in c:\\users\\vaalt\\appdata\\local\\anaconda3\\lib\\site-packages (from aiortc>=1.9.0->semantic-kernel) (0.9.0)\n",
      "Requirement already satisfied: av<14.0.0,>=9.0.0 in c:\\users\\vaalt\\appdata\\local\\anaconda3\\lib\\site-packages (from aiortc>=1.9.0->semantic-kernel) (13.1.0)\n",
      "Requirement already satisfied: cffi>=1.0.0 in c:\\users\\vaalt\\appdata\\local\\anaconda3\\lib\\site-packages (from aiortc>=1.9.0->semantic-kernel) (1.16.0)\n",
      "Requirement already satisfied: cryptography>=42.0.0 in c:\\users\\vaalt\\appdata\\local\\anaconda3\\lib\\site-packages (from aiortc>=1.9.0->semantic-kernel) (42.0.8)\n",
      "Requirement already satisfied: google-crc32c>=1.1 in c:\\users\\vaalt\\appdata\\local\\anaconda3\\lib\\site-packages (from aiortc>=1.9.0->semantic-kernel) (1.6.0)\n",
      "Requirement already satisfied: pyee>=9.0.0 in c:\\users\\vaalt\\appdata\\local\\anaconda3\\lib\\site-packages (from aiortc>=1.9.0->semantic-kernel) (12.1.1)\n",
      "Requirement already satisfied: pylibsrtp>=0.10.0 in c:\\users\\vaalt\\appdata\\local\\anaconda3\\lib\\site-packages (from aiortc>=1.9.0->semantic-kernel) (0.11.0)\n",
      "Requirement already satisfied: pyopenssl>=24.0.0 in c:\\users\\vaalt\\appdata\\local\\anaconda3\\lib\\site-packages (from aiortc>=1.9.0->semantic-kernel) (24.0.0)\n",
      "Requirement already satisfied: azure-core>=1.23.0 in c:\\users\\vaalt\\appdata\\local\\anaconda3\\lib\\site-packages (from azure-identity~=1.13->semantic-kernel) (1.32.0)\n",
      "Requirement already satisfied: msal>=1.24.0 in c:\\users\\vaalt\\appdata\\local\\anaconda3\\lib\\site-packages (from azure-identity~=1.13->semantic-kernel) (1.31.0)\n",
      "Requirement already satisfied: msal-extensions>=0.3.0 in c:\\users\\vaalt\\appdata\\local\\anaconda3\\lib\\site-packages (from azure-identity~=1.13->semantic-kernel) (1.2.0)\n",
      "Requirement already satisfied: typing-extensions>=4.0.0 in c:\\users\\vaalt\\appdata\\local\\anaconda3\\lib\\site-packages (from azure-identity~=1.13->semantic-kernel) (4.12.2)\n",
      "Requirement already satisfied: deprecation<3.0,>=2.0 in c:\\users\\vaalt\\appdata\\local\\anaconda3\\lib\\site-packages (from cloudevents~=1.0->semantic-kernel) (2.1.0)\n",
      "Requirement already satisfied: MarkupSafe>=2.0 in c:\\users\\vaalt\\appdata\\local\\anaconda3\\lib\\site-packages (from jinja2~=3.1->semantic-kernel) (3.0.2)\n",
      "Requirement already satisfied: anyio<5,>=3.5.0 in c:\\users\\vaalt\\appdata\\local\\anaconda3\\lib\\site-packages (from openai~=1.61->semantic-kernel) (4.8.0)\n",
      "Requirement already satisfied: distro<2,>=1.7.0 in c:\\users\\vaalt\\appdata\\local\\anaconda3\\lib\\site-packages (from openai~=1.61->semantic-kernel) (1.9.0)\n",
      "Requirement already satisfied: httpx<1,>=0.23.0 in c:\\users\\vaalt\\appdata\\local\\anaconda3\\lib\\site-packages (from openai~=1.61->semantic-kernel) (0.27.2)\n",
      "Requirement already satisfied: jiter<1,>=0.4.0 in c:\\users\\vaalt\\appdata\\local\\anaconda3\\lib\\site-packages (from openai~=1.61->semantic-kernel) (0.4.2)\n",
      "Requirement already satisfied: sniffio in c:\\users\\vaalt\\appdata\\local\\anaconda3\\lib\\site-packages (from openai~=1.61->semantic-kernel) (1.3.0)\n",
      "Requirement already satisfied: tqdm>4 in c:\\users\\vaalt\\appdata\\local\\anaconda3\\lib\\site-packages (from openai~=1.61->semantic-kernel) (4.66.4)\n",
      "Requirement already satisfied: isodate in c:\\users\\vaalt\\appdata\\local\\anaconda3\\lib\\site-packages (from openapi_core<0.20,>=0.18->semantic-kernel) (0.6.1)\n",
      "Requirement already satisfied: jsonschema<5.0.0,>=4.18.0 in c:\\users\\vaalt\\appdata\\local\\anaconda3\\lib\\site-packages (from openapi_core<0.20,>=0.18->semantic-kernel) (4.23.0)\n",
      "Requirement already satisfied: jsonschema-path<0.4.0,>=0.3.1 in c:\\users\\vaalt\\appdata\\local\\anaconda3\\lib\\site-packages (from openapi_core<0.20,>=0.18->semantic-kernel) (0.3.3)\n",
      "Requirement already satisfied: more-itertools in c:\\users\\vaalt\\appdata\\local\\anaconda3\\lib\\site-packages (from openapi_core<0.20,>=0.18->semantic-kernel) (10.1.0)\n",
      "Requirement already satisfied: openapi-schema-validator<0.7.0,>=0.6.0 in c:\\users\\vaalt\\appdata\\local\\anaconda3\\lib\\site-packages (from openapi_core<0.20,>=0.18->semantic-kernel) (0.6.2)\n",
      "Requirement already satisfied: openapi-spec-validator<0.8.0,>=0.7.1 in c:\\users\\vaalt\\appdata\\local\\anaconda3\\lib\\site-packages (from openapi_core<0.20,>=0.18->semantic-kernel) (0.7.1)\n",
      "Requirement already satisfied: parse in c:\\users\\vaalt\\appdata\\local\\anaconda3\\lib\\site-packages (from openapi_core<0.20,>=0.18->semantic-kernel) (1.20.2)\n",
      "Requirement already satisfied: werkzeug in c:\\users\\vaalt\\appdata\\local\\anaconda3\\lib\\site-packages (from openapi_core<0.20,>=0.18->semantic-kernel) (3.1.3)\n",
      "Requirement already satisfied: deprecated>=1.2.6 in c:\\users\\vaalt\\appdata\\local\\anaconda3\\lib\\site-packages (from opentelemetry-api~=1.24->semantic-kernel) (1.2.14)\n",
      "Requirement already satisfied: importlib-metadata<=8.5.0,>=6.0 in c:\\users\\vaalt\\appdata\\local\\anaconda3\\lib\\site-packages (from opentelemetry-api~=1.24->semantic-kernel) (6.11.0)\n",
      "Requirement already satisfied: opentelemetry-semantic-conventions==0.51b0 in c:\\users\\vaalt\\appdata\\local\\anaconda3\\lib\\site-packages (from opentelemetry-sdk~=1.24->semantic-kernel) (0.51b0)\n",
      "Requirement already satisfied: chardet>=3.0 in c:\\users\\vaalt\\appdata\\local\\anaconda3\\lib\\site-packages (from prance~=23.6.21.0->semantic-kernel) (5.2.0)\n",
      "Requirement already satisfied: ruamel.yaml>=0.17.10 in c:\\users\\vaalt\\appdata\\local\\anaconda3\\lib\\site-packages (from prance~=23.6.21.0->semantic-kernel) (0.17.21)\n",
      "Requirement already satisfied: requests>=2.25 in c:\\users\\vaalt\\appdata\\local\\anaconda3\\lib\\site-packages (from prance~=23.6.21.0->semantic-kernel) (2.32.3)\n",
      "Requirement already satisfied: six~=1.15 in c:\\users\\vaalt\\appdata\\local\\anaconda3\\lib\\site-packages (from prance~=23.6.21.0->semantic-kernel) (1.16.0)\n",
      "Requirement already satisfied: packaging>=21.3 in c:\\users\\vaalt\\appdata\\local\\anaconda3\\lib\\site-packages (from prance~=23.6.21.0->semantic-kernel) (24.2)\n",
      "Requirement already satisfied: PyMeta3>=0.5.1 in c:\\users\\vaalt\\appdata\\local\\anaconda3\\lib\\site-packages (from pybars4~=0.9->semantic-kernel) (0.5.1)\n",
      "Requirement already satisfied: annotated-types>=0.6.0 in c:\\users\\vaalt\\appdata\\local\\anaconda3\\lib\\site-packages (from pydantic!=2.10.0,!=2.10.1,!=2.10.2,!=2.10.3,<2.11,>=2.0->semantic-kernel) (0.6.0)\n",
      "Requirement already satisfied: pydantic-core==2.27.2 in c:\\users\\vaalt\\appdata\\local\\anaconda3\\lib\\site-packages (from pydantic!=2.10.0,!=2.10.1,!=2.10.2,!=2.10.3,<2.11,>=2.0->semantic-kernel) (2.27.2)\n",
      "Requirement already satisfied: python-dotenv>=0.21.0 in c:\\users\\vaalt\\appdata\\local\\anaconda3\\lib\\site-packages (from pydantic-settings~=2.0->semantic-kernel) (1.0.1)\n",
      "Requirement already satisfied: dnspython>=2.0.0 in c:\\users\\vaalt\\appdata\\local\\anaconda3\\lib\\site-packages (from aioice<1.0.0,>=0.9.0->aiortc>=1.9.0->semantic-kernel) (2.7.0)\n",
      "Requirement already satisfied: ifaddr>=0.2.0 in c:\\users\\vaalt\\appdata\\local\\anaconda3\\lib\\site-packages (from aioice<1.0.0,>=0.9.0->aiortc>=1.9.0->semantic-kernel) (0.2.0)\n",
      "Requirement already satisfied: idna>=2.8 in c:\\users\\vaalt\\appdata\\local\\anaconda3\\lib\\site-packages (from anyio<5,>=3.5.0->openai~=1.61->semantic-kernel) (3.7)\n",
      "Requirement already satisfied: pycparser in c:\\users\\vaalt\\appdata\\local\\anaconda3\\lib\\site-packages (from cffi>=1.0.0->aiortc>=1.9.0->semantic-kernel) (2.21)\n",
      "Requirement already satisfied: wrapt<2,>=1.10 in c:\\users\\vaalt\\appdata\\local\\anaconda3\\lib\\site-packages (from deprecated>=1.2.6->opentelemetry-api~=1.24->semantic-kernel) (1.14.1)\n",
      "Requirement already satisfied: certifi in c:\\users\\vaalt\\appdata\\local\\anaconda3\\lib\\site-packages (from httpx<1,>=0.23.0->openai~=1.61->semantic-kernel) (2024.8.30)\n",
      "Requirement already satisfied: httpcore==1.* in c:\\users\\vaalt\\appdata\\local\\anaconda3\\lib\\site-packages (from httpx<1,>=0.23.0->openai~=1.61->semantic-kernel) (1.0.7)\n",
      "Requirement already satisfied: h11<0.15,>=0.13 in c:\\users\\vaalt\\appdata\\local\\anaconda3\\lib\\site-packages (from httpcore==1.*->httpx<1,>=0.23.0->openai~=1.61->semantic-kernel) (0.14.0)\n",
      "Requirement already satisfied: zipp>=0.5 in c:\\users\\vaalt\\appdata\\local\\anaconda3\\lib\\site-packages (from importlib-metadata<=8.5.0,>=6.0->opentelemetry-api~=1.24->semantic-kernel) (3.17.0)\n",
      "Requirement already satisfied: jsonschema-specifications>=2023.03.6 in c:\\users\\vaalt\\appdata\\local\\anaconda3\\lib\\site-packages (from jsonschema<5.0.0,>=4.18.0->openapi_core<0.20,>=0.18->semantic-kernel) (2023.7.1)\n",
      "Requirement already satisfied: referencing>=0.28.4 in c:\\users\\vaalt\\appdata\\local\\anaconda3\\lib\\site-packages (from jsonschema<5.0.0,>=4.18.0->openapi_core<0.20,>=0.18->semantic-kernel) (0.30.2)\n",
      "Requirement already satisfied: rpds-py>=0.7.1 in c:\\users\\vaalt\\appdata\\local\\anaconda3\\lib\\site-packages (from jsonschema<5.0.0,>=4.18.0->openapi_core<0.20,>=0.18->semantic-kernel) (0.10.6)\n",
      "Requirement already satisfied: PyYAML>=5.1 in c:\\users\\vaalt\\appdata\\local\\anaconda3\\lib\\site-packages (from jsonschema-path<0.4.0,>=0.3.1->openapi_core<0.20,>=0.18->semantic-kernel) (6.0.1)\n",
      "Requirement already satisfied: pathable<0.5.0,>=0.4.1 in c:\\users\\vaalt\\appdata\\local\\anaconda3\\lib\\site-packages (from jsonschema-path<0.4.0,>=0.3.1->openapi_core<0.20,>=0.18->semantic-kernel) (0.4.3)\n",
      "Requirement already satisfied: PyJWT<3,>=1.0.0 in c:\\users\\vaalt\\appdata\\local\\anaconda3\\lib\\site-packages (from PyJWT[crypto]<3,>=1.0.0->msal>=1.24.0->azure-identity~=1.13->semantic-kernel) (2.8.0)\n",
      "Requirement already satisfied: portalocker<3,>=1.4 in c:\\users\\vaalt\\appdata\\local\\anaconda3\\lib\\site-packages (from msal-extensions>=0.3.0->azure-identity~=1.13->semantic-kernel) (2.10.1)\n",
      "Requirement already satisfied: rfc3339-validator in c:\\users\\vaalt\\appdata\\local\\anaconda3\\lib\\site-packages (from openapi-schema-validator<0.7.0,>=0.6.0->openapi_core<0.20,>=0.18->semantic-kernel) (0.1.4)\n",
      "Requirement already satisfied: lazy-object-proxy<2.0.0,>=1.7.1 in c:\\users\\vaalt\\appdata\\local\\anaconda3\\lib\\site-packages (from openapi-spec-validator<0.8.0,>=0.7.1->openapi_core<0.20,>=0.18->semantic-kernel) (1.10.0)\n",
      "Requirement already satisfied: charset-normalizer<4,>=2 in c:\\users\\vaalt\\appdata\\local\\anaconda3\\lib\\site-packages (from requests>=2.25->prance~=23.6.21.0->semantic-kernel) (3.4.1)\n",
      "Requirement already satisfied: urllib3<3,>=1.21.1 in c:\\users\\vaalt\\appdata\\local\\anaconda3\\lib\\site-packages (from requests>=2.25->prance~=23.6.21.0->semantic-kernel) (2.2.2)\n",
      "Requirement already satisfied: colorama in c:\\users\\vaalt\\appdata\\local\\anaconda3\\lib\\site-packages (from tqdm>4->openai~=1.61->semantic-kernel) (0.4.6)\n",
      "Requirement already satisfied: pywin32>=226 in c:\\users\\vaalt\\appdata\\local\\anaconda3\\lib\\site-packages (from portalocker<3,>=1.4->msal-extensions>=0.3.0->azure-identity~=1.13->semantic-kernel) (306)\n",
      "Note: you may need to restart the kernel to use updated packages.\n"
     ]
    },
    {
     "data": {
      "text/plain": [
       "'1.24.0'"
      ]
     },
     "execution_count": 1,
     "metadata": {},
     "output_type": "execute_result"
    }
   ],
   "source": [
    "# Note: if using a virtual environment, do not run this cell\n",
    "%pip install -U semantic-kernel\n",
    "from semantic_kernel import __version__\n",
    "\n",
    "__version__"
   ]
  },
  {
   "cell_type": "markdown",
   "metadata": {},
   "source": [
    "Initial configuration for the notebook to run properly."
   ]
  },
  {
   "cell_type": "code",
   "execution_count": 22,
   "metadata": {},
   "outputs": [],
   "source": [
    "# Make sure paths are correct for the imports\n",
    "\n",
    "import os\n",
    "import sys\n",
    "\n",
    "notebook_dir = os.path.abspath(\"\")\n",
    "parent_dir = os.path.dirname(notebook_dir)\n",
    "grandparent_dir = os.path.dirname(parent_dir)\n",
    "\n",
    "\n",
    "sys.path.append(grandparent_dir)"
   ]
  },
  {
   "cell_type": "markdown",
   "metadata": {},
   "source": [
    "### Configuring the Kernel\n",
    "\n",
    "Let's get started with the necessary configuration to run Semantic Kernel. For Notebooks, we require a `.env` file with the proper settings for the model you use. Create a new file named `.env` and place it in this directory. Copy the contents of the `.env.example` file from this directory and paste it into the `.env` file that you just created.\n",
    "\n",
    "**NOTE: Please make sure to include `GLOBAL_LLM_SERVICE` set to either OpenAI, AzureOpenAI, or HuggingFace in your .env file. If this setting is not included, the Service will default to AzureOpenAI.**\n",
    "\n",
    "#### Option 1: using OpenAI\n",
    "\n",
    "Add your [OpenAI Key](https://openai.com/product/) key to your `.env` file (org Id only if you have multiple orgs):\n",
    "\n",
    "```\n",
    "GLOBAL_LLM_SERVICE=\"OpenAI\"\n",
    "OPENAI_API_KEY=\"sk-...\"\n",
    "OPENAI_ORG_ID=\"\"\n",
    "OPENAI_CHAT_MODEL_ID=\"\"\n",
    "OPENAI_TEXT_MODEL_ID=\"\"\n",
    "OPENAI_EMBEDDING_MODEL_ID=\"\"\n",
    "```\n",
    "The names should match the names used in the `.env` file, as shown above.\n",
    "\n",
    "#### Option 2: using Azure OpenAI\n",
    "\n",
    "Add your [Azure Open AI Service key](https://learn.microsoft.com/azure/cognitive-services/openai/quickstart?pivots=programming-language-studio) settings to the `.env` file in the same folder:\n",
    "\n",
    "```\n",
    "GLOBAL_LLM_SERVICE=\"AzureOpenAI\"\n",
    "AZURE_OPENAI_API_KEY=\"...\"\n",
    "AZURE_OPENAI_ENDPOINT=\"https://...\"\n",
    "AZURE_OPENAI_CHAT_DEPLOYMENT_NAME=\"...\"\n",
    "AZURE_OPENAI_TEXT_DEPLOYMENT_NAME=\"...\"\n",
    "AZURE_OPENAI_EMBEDDING_DEPLOYMENT_NAME=\"...\"\n",
    "AZURE_OPENAI_API_VERSION=\"...\"\n",
    "```\n",
    "The names should match the names used in the `.env` file, as shown above.\n",
    "\n",
    "For more advanced configuration, please follow the steps outlined in the [setup guide](./CONFIGURING_THE_KERNEL.md)."
   ]
  },
  {
   "cell_type": "markdown",
   "metadata": {},
   "source": [
    "Let's define our kernel for this example."
   ]
  },
  {
   "cell_type": "code",
   "execution_count": 7,
   "metadata": {},
   "outputs": [],
   "source": [
    "from semantic_kernel import Kernel\n",
    "\n",
    "kernel = Kernel()"
   ]
  },
  {
   "cell_type": "markdown",
   "metadata": {},
   "source": [
    "We will load our settings and get the LLM service to use for the notebook."
   ]
  },
  {
   "cell_type": "code",
   "execution_count": 24,
   "metadata": {},
   "outputs": [
    {
     "name": "stdout",
     "output_type": "stream",
     "text": [
      "Using service type: Service.AzureOpenAI\n"
     ]
    }
   ],
   "source": [
    "from utils.services import Service \n",
    "from utils.service_settings import ServiceSettings\n",
    "\n",
    "service_settings = ServiceSettings.create()\n",
    "\n",
    "# Select a service to use for this notebook (available services: OpenAI, AzureOpenAI, HuggingFace)\n",
    "selectedService = (\n",
    "    Service.AzureOpenAI\n",
    "    if service_settings.global_llm_service is None\n",
    "    else Service(service_settings.global_llm_service.lower())\n",
    ")\n",
    "print(f\"Using service type: {selectedService}\")"
   ]
  },
  {
   "cell_type": "markdown",
   "metadata": {},
   "source": [
    "We now configure our Chat Completion service on the kernel."
   ]
  },
  {
   "cell_type": "code",
   "execution_count": 25,
   "metadata": {},
   "outputs": [],
   "source": [
    "# Remove all services so that this cell can be re-run without restarting the kernel\n",
    "kernel.remove_all_services()\n",
    "\n",
    "service_id = None\n",
    "if selectedService == Service.OpenAI:\n",
    "    from semantic_kernel.connectors.ai.open_ai import OpenAIChatCompletion\n",
    "\n",
    "    service_id = \"default\"\n",
    "    kernel.add_service(\n",
    "        OpenAIChatCompletion(\n",
    "            service_id=service_id,\n",
    "        ),\n",
    "    )\n",
    "elif selectedService == Service.AzureOpenAI:\n",
    "    from semantic_kernel.connectors.ai.open_ai import AzureChatCompletion\n",
    "\n",
    "    service_id = \"default\"\n",
    "    kernel.add_service(\n",
    "        AzureChatCompletion(\n",
    "            service_id=service_id,\n",
    "        ),\n",
    "    )"
   ]
  },
  {
   "attachments": {},
   "cell_type": "markdown",
   "metadata": {},
   "source": [
    "# Run a Semantic Function\n",
    "\n",
    "**Step 3**: Load a Plugin and run a semantic function:\n"
   ]
  },
  {
   "cell_type": "code",
   "execution_count": 7,
   "metadata": {},
   "outputs": [],
   "source": [
    "plugin = kernel.add_plugin(parent_directory=\"../../../prompt_template_samples/\", plugin_name=\"FunPlugin\")"
   ]
  },
  {
   "cell_type": "code",
   "execution_count": null,
   "metadata": {},
   "outputs": [
    {
     "name": "stdout",
     "output_type": "stream",
     "text": [
      "Why did the time traveler bring a suitcase to the dinosaur age?\n",
      "\n",
      "Because he heard the T-Rex had a \"roaring\" good time and didn't want to miss out on the \"Jurassic\" vacation package!\n"
     ]
    }
   ],
   "source": [
    "plugin = kernel.add_plugin(parent_directory=\"../../../prompt_template_samples/\", plugin_name=\"FunPlugin\")\n",
    "\n",
    "from semantic_kernel.functions import KernelArguments\n",
    "\n",
    "joke_function = plugin[\"Joke\"]\n",
    "\n",
    "joke = await kernel.invoke(\n",
    "    joke_function,\n",
    "    KernelArguments(input=\"time travel to dinosaur age\", style=\"super silly\"),\n",
    ")\n",
    "print(joke)"
   ]
  },
  {
   "cell_type": "markdown",
   "metadata": {},
   "source": [
    "# Agent"
   ]
  },
  {
   "cell_type": "code",
   "execution_count": 26,
   "metadata": {},
   "outputs": [],
   "source": [
    "import asyncio\n",
    "from typing import Annotated\n",
    "\n",
    "from semantic_kernel import Kernel\n",
    "from semantic_kernel.agents import ChatCompletionAgent\n",
    "from semantic_kernel.connectors.ai import FunctionChoiceBehavior\n",
    "from semantic_kernel.connectors.ai.open_ai import AzureChatCompletion\n",
    "from semantic_kernel.contents import ChatHistory, FunctionCallContent, FunctionResultContent\n",
    "from semantic_kernel.functions import KernelArguments, kernel_function"
   ]
  },
  {
   "cell_type": "markdown",
   "metadata": {},
   "source": [
    "## Web Agent"
   ]
  },
  {
   "cell_type": "code",
   "execution_count": 6,
   "metadata": {},
   "outputs": [
    {
     "name": "stdout",
     "output_type": "stream",
     "text": [
      "Collecting requests_html\n",
      "  Downloading requests_html-0.10.0-py3-none-any.whl.metadata (15 kB)\n",
      "Requirement already satisfied: requests in c:\\users\\vaalt\\appdata\\local\\anaconda3\\lib\\site-packages (from requests_html) (2.32.3)\n",
      "Collecting pyquery (from requests_html)\n",
      "  Downloading pyquery-2.0.1-py3-none-any.whl.metadata (9.0 kB)\n",
      "Requirement already satisfied: fake-useragent in c:\\users\\vaalt\\appdata\\local\\anaconda3\\lib\\site-packages (from requests_html) (1.5.1)\n",
      "Requirement already satisfied: parse in c:\\users\\vaalt\\appdata\\local\\anaconda3\\lib\\site-packages (from requests_html) (1.20.2)\n",
      "Collecting bs4 (from requests_html)\n",
      "  Downloading bs4-0.0.2-py2.py3-none-any.whl.metadata (411 bytes)\n",
      "Requirement already satisfied: w3lib in c:\\users\\vaalt\\appdata\\local\\anaconda3\\lib\\site-packages (from requests_html) (2.1.2)\n",
      "Collecting pyppeteer>=0.0.14 (from requests_html)\n",
      "  Downloading pyppeteer-2.0.0-py3-none-any.whl.metadata (7.1 kB)\n",
      "Requirement already satisfied: appdirs<2.0.0,>=1.4.3 in c:\\users\\vaalt\\appdata\\local\\anaconda3\\lib\\site-packages (from pyppeteer>=0.0.14->requests_html) (1.4.4)\n",
      "Requirement already satisfied: certifi>=2023 in c:\\users\\vaalt\\appdata\\local\\anaconda3\\lib\\site-packages (from pyppeteer>=0.0.14->requests_html) (2024.8.30)\n",
      "Requirement already satisfied: importlib-metadata>=1.4 in c:\\users\\vaalt\\appdata\\local\\anaconda3\\lib\\site-packages (from pyppeteer>=0.0.14->requests_html) (6.11.0)\n",
      "Collecting pyee<12.0.0,>=11.0.0 (from pyppeteer>=0.0.14->requests_html)\n",
      "  Downloading pyee-11.1.1-py3-none-any.whl.metadata (2.8 kB)\n",
      "Requirement already satisfied: tqdm<5.0.0,>=4.42.1 in c:\\users\\vaalt\\appdata\\local\\anaconda3\\lib\\site-packages (from pyppeteer>=0.0.14->requests_html) (4.66.4)\n",
      "Collecting urllib3<2.0.0,>=1.25.8 (from pyppeteer>=0.0.14->requests_html)\n",
      "  Downloading urllib3-1.26.20-py2.py3-none-any.whl.metadata (50 kB)\n",
      "     ---------------------------------------- 0.0/50.1 kB ? eta -:--:--\n",
      "     ---------------------------------------- 50.1/50.1 kB 1.3 MB/s eta 0:00:00\n",
      "Collecting websockets<11.0,>=10.0 (from pyppeteer>=0.0.14->requests_html)\n",
      "  Downloading websockets-10.4.tar.gz (84 kB)\n",
      "     ---------------------------------------- 0.0/84.9 kB ? eta -:--:--\n",
      "     ---------------------------------------- 84.9/84.9 kB 5.0 MB/s eta 0:00:00\n",
      "  Preparing metadata (setup.py): started\n",
      "  Preparing metadata (setup.py): finished with status 'done'\n",
      "Requirement already satisfied: beautifulsoup4 in c:\\users\\vaalt\\appdata\\local\\anaconda3\\lib\\site-packages (from bs4->requests_html) (4.12.3)\n",
      "Requirement already satisfied: lxml>=2.1 in c:\\users\\vaalt\\appdata\\local\\anaconda3\\lib\\site-packages (from pyquery->requests_html) (5.3.0)\n",
      "Requirement already satisfied: cssselect>=1.2.0 in c:\\users\\vaalt\\appdata\\local\\anaconda3\\lib\\site-packages (from pyquery->requests_html) (1.2.0)\n",
      "Requirement already satisfied: charset-normalizer<4,>=2 in c:\\users\\vaalt\\appdata\\local\\anaconda3\\lib\\site-packages (from requests->requests_html) (3.4.1)\n",
      "Requirement already satisfied: idna<4,>=2.5 in c:\\users\\vaalt\\appdata\\local\\anaconda3\\lib\\site-packages (from requests->requests_html) (3.7)\n",
      "Requirement already satisfied: zipp>=0.5 in c:\\users\\vaalt\\appdata\\local\\anaconda3\\lib\\site-packages (from importlib-metadata>=1.4->pyppeteer>=0.0.14->requests_html) (3.17.0)\n",
      "Requirement already satisfied: typing-extensions in c:\\users\\vaalt\\appdata\\local\\anaconda3\\lib\\site-packages (from pyee<12.0.0,>=11.0.0->pyppeteer>=0.0.14->requests_html) (4.12.2)\n",
      "Requirement already satisfied: colorama in c:\\users\\vaalt\\appdata\\local\\anaconda3\\lib\\site-packages (from tqdm<5.0.0,>=4.42.1->pyppeteer>=0.0.14->requests_html) (0.4.6)\n",
      "Requirement already satisfied: soupsieve>1.2 in c:\\users\\vaalt\\appdata\\local\\anaconda3\\lib\\site-packages (from beautifulsoup4->bs4->requests_html) (2.5)\n",
      "Downloading requests_html-0.10.0-py3-none-any.whl (13 kB)\n",
      "Downloading pyppeteer-2.0.0-py3-none-any.whl (82 kB)\n",
      "   ---------------------------------------- 0.0/82.9 kB ? eta -:--:--\n",
      "   ---------------------------------------- 82.9/82.9 kB 4.5 MB/s eta 0:00:00\n",
      "Downloading bs4-0.0.2-py2.py3-none-any.whl (1.2 kB)\n",
      "Downloading pyquery-2.0.1-py3-none-any.whl (22 kB)\n",
      "Downloading pyee-11.1.1-py3-none-any.whl (15 kB)\n",
      "Downloading urllib3-1.26.20-py2.py3-none-any.whl (144 kB)\n",
      "   ---------------------------------------- 0.0/144.2 kB ? eta -:--:--\n",
      "   ---------------------------------------- 144.2/144.2 kB 8.4 MB/s eta 0:00:00\n",
      "Building wheels for collected packages: websockets\n",
      "  Building wheel for websockets (setup.py): started\n",
      "  Building wheel for websockets (setup.py): finished with status 'done'\n",
      "  Created wheel for websockets: filename=websockets-10.4-cp312-cp312-win_amd64.whl size=100988 sha256=1323550a1c07f3b3e4b125d6c98896dca1a3bd598c362d4fc97cd33d5f1d2933\n",
      "  Stored in directory: c:\\users\\vaalt\\appdata\\local\\pip\\cache\\wheels\\80\\cf\\6d\\5d7e4c920cb41925a178b2d2621889c520d648bab487b1d7fd\n",
      "Successfully built websockets\n",
      "Installing collected packages: websockets, urllib3, pyquery, pyee, pyppeteer, bs4, requests_html\n",
      "  Attempting uninstall: websockets\n",
      "    Found existing installation: websockets 14.2\n",
      "    Uninstalling websockets-14.2:\n",
      "      Successfully uninstalled websockets-14.2\n",
      "  Attempting uninstall: urllib3\n",
      "    Found existing installation: urllib3 2.2.2\n",
      "    Uninstalling urllib3-2.2.2:\n",
      "      Successfully uninstalled urllib3-2.2.2\n",
      "  Attempting uninstall: pyee\n",
      "    Found existing installation: pyee 12.1.1\n",
      "    Uninstalling pyee-12.1.1:\n",
      "      Successfully uninstalled pyee-12.1.1\n",
      "Successfully installed bs4-0.0.2 pyee-11.1.1 pyppeteer-2.0.0 pyquery-2.0.1 requests_html-0.10.0 urllib3-1.26.20 websockets-10.4\n"
     ]
    },
    {
     "name": "stderr",
     "output_type": "stream",
     "text": [
      "  WARNING: Failed to remove contents in a temporary directory 'C:\\Users\\vaalt\\AppData\\Local\\anaconda3\\Lib\\site-packages\\~ebsockets'.\n",
      "  You can safely remove it manually.\n",
      "ERROR: pip's dependency resolver does not currently take into account all the packages that are installed. This behaviour is the source of the following dependency conflicts.\n",
      "assemblyai 0.35.1 requires websockets>=11.0, but you have websockets 10.4 which is incompatible.\n",
      "auth0-python 4.7.2 requires cryptography<44.0.0,>=43.0.1, but you have cryptography 42.0.8 which is incompatible.\n",
      "auth0-python 4.7.2 requires urllib3<3.0.0,>=2.0.7, but you have urllib3 1.26.20 which is incompatible.\n",
      "microsoft-kiota-http 1.6.6 requires httpx[http2]>=0.28, but you have httpx 0.27.2 which is incompatible.\n",
      "microsoft-kiota-http 1.6.6 requires urllib3<3.0.0,>=2.2.2, but you have urllib3 1.26.20 which is incompatible.\n",
      "playwright 1.50.0 requires pyee<13,>=12, but you have pyee 11.1.1 which is incompatible.\n",
      "realtime 1.0.6 requires websockets<13,>=11, but you have websockets 10.4 which is incompatible.\n",
      "sagemaker 2.232.2 requires protobuf<5.0,>=3.12, but you have protobuf 5.29.3 which is incompatible.\n",
      "semantic-kernel 1.24.0 requires websockets<15,>=13, but you have websockets 10.4 which is incompatible.\n",
      "types-requests 2.32.0.20240914 requires urllib3>=2, but you have urllib3 1.26.20 which is incompatible.\n"
     ]
    }
   ],
   "source": [
    "! pip install requests_html"
   ]
  },
  {
   "cell_type": "code",
   "execution_count": 42,
   "metadata": {},
   "outputs": [],
   "source": [
    "def _create_kernel_with_chat_completion(service_id: str) -> Kernel:\n",
    "    kernel = Kernel()\n",
    "    kernel.add_service(AzureChatCompletion(service_id=service_id))\n",
    "    return kernel"
   ]
  },
  {
   "cell_type": "code",
   "execution_count": 9,
   "metadata": {},
   "outputs": [
    {
     "name": "stdout",
     "output_type": "stream",
     "text": [
      "Collecting lxml_html_clean\n",
      "  Downloading lxml_html_clean-0.4.1-py3-none-any.whl.metadata (2.4 kB)\n",
      "Requirement already satisfied: lxml in c:\\users\\vaalt\\appdata\\local\\anaconda3\\lib\\site-packages (from lxml_html_clean) (5.3.0)\n",
      "Downloading lxml_html_clean-0.4.1-py3-none-any.whl (14 kB)\n",
      "Installing collected packages: lxml_html_clean\n",
      "Successfully installed lxml_html_clean-0.4.1\n"
     ]
    }
   ],
   "source": [
    "! pip install lxml_html_clean"
   ]
  },
  {
   "cell_type": "code",
   "execution_count": 6,
   "metadata": {},
   "outputs": [],
   "source": [
    "from lxml.html.clean import Cleaner\n",
    "import lxml\n",
    "from lxml import etree"
   ]
  },
  {
   "cell_type": "code",
   "execution_count": 7,
   "metadata": {},
   "outputs": [],
   "source": [
    "from Plugins.web_plugin import NewsFacade"
   ]
  },
  {
   "cell_type": "code",
   "execution_count": 41,
   "metadata": {},
   "outputs": [],
   "source": [
    "import yaml\n",
    "\n",
    "def create_chat_completion_agent(kernel: Kernel, definition_file_path: str, plugins: list) -> ChatCompletionAgent:\n",
    "    with open(definition_file_path, 'r') as file:\n",
    "        definition = yaml.safe_load(file)\n",
    "\n",
    "    return ChatCompletionAgent(\n",
    "        kernel=kernel,\n",
    "        name=definition['name'],\n",
    "        plugins = plugins,\n",
    "        description=definition['description'],\n",
    "        instructions=definition['instructions']\n",
    "    )"
   ]
  },
  {
   "cell_type": "code",
   "execution_count": 9,
   "metadata": {},
   "outputs": [
    {
     "name": "stdout",
     "output_type": "stream",
     "text": [
      "# User: Hello\n",
      "# NewsAgent: Hi! How can I assist you today? Are you looking for any investment news or articles? If so, please provide the ticker symbol you're interested in. \n",
      "# User: What are the latest news about Microsoft?\n",
      "# NewsAgent: Here are the latest news about Microsoft:\n",
      "\n",
      "1. **Title:** [Magnificent Seven Stocks: Nvidia Sells Off Ahead Of Jensen Huang Speech; Google, Meta, Tesla Tumble](https://finance.yahoo.com/m/4205eaa9-f620-3a0b-a81a-0e82c7c9fd0b/magnificent-seven-stocks%3A.html)\n",
      "   - **Published:** Today at 01:19 PM\n",
      "\n",
      "2. **Title:** [Google's Biggest Buy Yet: $32B Wiz Deal Strengthens Cloud Security](https://finance.yahoo.com/news/googles-biggest-buy-yet-32b-154812726.html)\n",
      "   - **Published:** Today at 11:48 AM\n",
      "\n",
      "3. **Title:** [Why Alphabet Stock Is Falling Today](https://finance.yahoo.com/m/3d7583ed-43d6-3bcf-b58d-c2182422f70b/why-alphabet-stock-is-falling.html)\n",
      "   - **Published:** Today at 11:48 AM\n",
      "\n",
      "4. **Title:** [Google's biggest buy ever](https://finance.yahoo.com/news/googles-biggest-buy-ever-152200981.html)\n",
      "   - **Published:** Today at 11:22 AM\n",
      "\n",
      "5. **Title:** [Microsoft Stock Marks 7th Straight Down Week; After Plumbing A New Low In 2025, Is MSFT A Buy In March, Or Is It A Sell?](https://finance.yahoo.com/m/36f713f1-e761-3bef-95b5-02f6aad67081/microsoft-stock-marks-7th.html)\n",
      "   - **Published:** Today at 11:15 AM\n",
      "\n",
      "You can click on the titles to read the full articles. \n"
     ]
    }
   ],
   "source": [
    "import asyncio\n",
    "from typing import Annotated\n",
    "\n",
    "from semantic_kernel.agents import ChatCompletionAgent\n",
    "from semantic_kernel.connectors.ai.open_ai import AzureChatCompletion\n",
    "from semantic_kernel.contents import ChatHistory\n",
    "from semantic_kernel.functions import kernel_function\n",
    "\n",
    "USER_INPUTS = [\n",
    "    \"Hello\",\n",
    "    \"What are the latest news about Microsoft?\",\n",
    "]\n",
    "\n",
    "\n",
    "web_agent = create_chat_completion_agent(\n",
    "    kernel = _create_kernel_with_chat_completion('web_agent'),\n",
    "    definition_file_path = \"Prompts/web.yaml\",\n",
    "    plugins=[NewsFacade()],\n",
    ")\n",
    "\n",
    "# web_agent = ChatCompletionAgent(\n",
    "#     kernel = _create_kernel_with_chat_completion('web_agent'),\n",
    "#     #service=AzureChatCompletion(),\n",
    "#     name=\"web_agent\",\n",
    "#     instructions=system_message,\n",
    "#     plugins=[NewsFacade()],\n",
    "# )\n",
    "\n",
    "# 2. Create a chat history to hold the conversation\n",
    "chat_history = ChatHistory()\n",
    "\n",
    "for user_input in USER_INPUTS:\n",
    "    # 3. Add the user input to the chat history\n",
    "    chat_history.add_user_message(user_input)\n",
    "    print(f\"# User: {user_input}\")\n",
    "    # 4. Invoke the agent for a response\n",
    "    response = await web_agent.get_response(chat_history)\n",
    "    print(f\"# {response.name}: {response.content} \")\n",
    "\n",
    "\n",
    "\n"
   ]
  },
  {
   "cell_type": "markdown",
   "metadata": {},
   "source": [
    "## SQL Agent"
   ]
  },
  {
   "cell_type": "code",
   "execution_count": 18,
   "metadata": {},
   "outputs": [
    {
     "name": "stdout",
     "output_type": "stream",
     "text": [
      "Collecting faker\n",
      "  Downloading faker-37.0.2-py3-none-any.whl.metadata (15 kB)\n",
      "Requirement already satisfied: tzdata in c:\\users\\vaalt\\appdata\\local\\anaconda3\\lib\\site-packages (from faker) (2025.1)\n",
      "Downloading faker-37.0.2-py3-none-any.whl (1.9 MB)\n",
      "   ---------------------------------------- 0.0/1.9 MB ? eta -:--:--\n",
      "   ---------------------------------------- 0.0/1.9 MB ? eta -:--:--\n",
      "    --------------------------------------- 0.0/1.9 MB 325.1 kB/s eta 0:00:06\n",
      "    --------------------------------------- 0.0/1.9 MB 325.1 kB/s eta 0:00:06\n",
      "    --------------------------------------- 0.0/1.9 MB 245.8 kB/s eta 0:00:08\n",
      "   - -------------------------------------- 0.1/1.9 MB 297.7 kB/s eta 0:00:07\n",
      "   - -------------------------------------- 0.1/1.9 MB 348.6 kB/s eta 0:00:06\n",
      "   -- ------------------------------------- 0.1/1.9 MB 399.4 kB/s eta 0:00:05\n",
      "   --- ------------------------------------ 0.2/1.9 MB 458.0 kB/s eta 0:00:04\n",
      "   ---- ----------------------------------- 0.2/1.9 MB 518.8 kB/s eta 0:00:04\n",
      "   ----- ---------------------------------- 0.3/1.9 MB 630.9 kB/s eta 0:00:03\n",
      "   ------- -------------------------------- 0.4/1.9 MB 764.2 kB/s eta 0:00:03\n",
      "   --------- ------------------------------ 0.5/1.9 MB 893.0 kB/s eta 0:00:02\n",
      "   ----------- ---------------------------- 0.6/1.9 MB 964.0 kB/s eta 0:00:02\n",
      "   ------------- -------------------------- 0.7/1.9 MB 1.1 MB/s eta 0:00:02\n",
      "   ------------------- -------------------- 0.9/1.9 MB 1.4 MB/s eta 0:00:01\n",
      "   ---------------------- ----------------- 1.1/1.9 MB 1.5 MB/s eta 0:00:01\n",
      "   ------------------------- -------------- 1.2/1.9 MB 1.6 MB/s eta 0:00:01\n",
      "   --------------------------------- ------ 1.6/1.9 MB 2.0 MB/s eta 0:00:01\n",
      "   ---------------------------------------  1.9/1.9 MB 2.3 MB/s eta 0:00:01\n",
      "   ---------------------------------------- 1.9/1.9 MB 2.3 MB/s eta 0:00:00\n",
      "Installing collected packages: faker\n",
      "Successfully installed faker-37.0.2\n"
     ]
    }
   ],
   "source": [
    "! pip install faker"
   ]
  },
  {
   "cell_type": "code",
   "execution_count": 45,
   "metadata": {},
   "outputs": [],
   "source": [
    "import sqlite3\n",
    "import pandas as pd\n",
    "\n",
    "# Sample data for the climbing product catalog\n",
    "data = {\n",
    "    \"Product ID\": [\"P001\", \"P002\", \"P003\", \"P004\", \"P005\"],\n",
    "    \"Product Name\": [\"Climbing Rope\", \"Climbing Shoes\", \"Carabiner\", \"Harness\", \"Chalk Bag\"],\n",
    "    \"Category\": [\"Ropes\", \"Shoes\", \"Hardware\", \"Harnesses\", \"Accessories\"],\n",
    "    \"Price\": [100, 150, 20, 75, 15],\n",
    "    \"Stock\": [50, 30, 100, 40, 200],\n",
    "    \"Description\": [\n",
    "        \"Durable and strong climbing rope suitable for all terrains.\",\n",
    "        \"High-performance climbing shoes for advanced climbers.\",\n",
    "        \"Lightweight and secure carabiner for all climbing needs.\",\n",
    "        \"Comfortable and adjustable harness for safety.\",\n",
    "        \"Compact and durable chalk bag for better grip.\"\n",
    "    ]\n",
    "}\n",
    "\n",
    "# Converting the dictionary to a DataFrame\n",
    "df = pd.DataFrame(data)\n",
    "\n",
    "# Connecting to a SQLite database (it will create a new one if it doesn't exist)\n",
    "conn = sqlite3.connect('climbing_product_catalog.db')\n",
    "\n",
    "# Storing the DataFrame in the SQLite database\n",
    "df.to_sql('product_catalog', conn, index=False, if_exists='replace')\n",
    "\n",
    "# Committing and closing the connection\n",
    "conn.commit()\n",
    "conn.close()"
   ]
  },
  {
   "cell_type": "code",
   "execution_count": 53,
   "metadata": {},
   "outputs": [],
   "source": [
    "from Plugins.QueryDb.queryDb import QueryDbPlugin\n",
    "\n",
    "sql_agent = create_chat_completion_agent(\n",
    "    kernel = _create_kernel_with_chat_completion('sql_agent'),\n",
    "    definition_file_path = \"Prompts/sql.yaml\",\n",
    "    plugins=[QueryDbPlugin('climbing_product_catalog.db')],\n",
    ")"
   ]
  },
  {
   "cell_type": "code",
   "execution_count": 54,
   "metadata": {},
   "outputs": [
    {
     "name": "stderr",
     "output_type": "stream",
     "text": [
      "Variable `Symbols.VAR_PREFIX: input` not found in the KernelArguments\n"
     ]
    },
    {
     "data": {
      "text/plain": [
       "'There are a total of 420 products in stock.'"
      ]
     },
     "execution_count": 54,
     "metadata": {},
     "output_type": "execute_result"
    }
   ],
   "source": [
    "# Define the chat history\n",
    "from semantic_kernel.contents import ChatHistory\n",
    "chat = ChatHistory()\n",
    "\n",
    "# Add the user message\n",
    "chat.add_user_message(\"how many products are in stock?\")\n",
    "\n",
    "\n",
    "# Generate the agent response\n",
    "response = await sql_agent.get_response(chat)\n",
    "response.content"
   ]
  },
  {
   "cell_type": "markdown",
   "metadata": {},
   "source": [
    "## Concierge Agent"
   ]
  },
  {
   "cell_type": "code",
   "execution_count": 57,
   "metadata": {},
   "outputs": [],
   "source": [
    "concierge_agent = create_chat_completion_agent(\n",
    "    kernel = _create_kernel_with_chat_completion('concierge_agent'),\n",
    "    definition_file_path = \"Prompts/concierge.yaml\",\n",
    "    plugins=[]\n",
    ")"
   ]
  },
  {
   "cell_type": "markdown",
   "metadata": {},
   "source": [
    "## Cart Agent"
   ]
  },
  {
   "cell_type": "code",
   "execution_count": 60,
   "metadata": {},
   "outputs": [],
   "source": [
    "from Plugins.cart_plugin import CartPlugin\n",
    "\n",
    "\n",
    "concierge_agent = create_chat_completion_agent(\n",
    "    kernel = _create_kernel_with_chat_completion('cart_agent'),\n",
    "    definition_file_path = \"Prompts/cart.yaml\",\n",
    "    plugins=[CartPlugin('http://localhost:3000')]\n",
    ")"
   ]
  },
  {
   "cell_type": "code",
   "execution_count": null,
   "metadata": {},
   "outputs": [],
   "source": [
    "# Define the chat history\n",
    "from semantic_kernel.contents import ChatHistory\n",
    "chat = ChatHistory()\n",
    "\n",
    "# Add the user message\n",
    "chat.add_user_message(\"add climbing shoes to my cart, cost is 100$\")\n",
    "\n",
    "\n",
    "# Generate the agent response\n",
    "response = await sql_agent.get_response(chat)\n",
    "response.content"
   ]
  },
  {
   "cell_type": "markdown",
   "metadata": {},
   "source": [
    "### group chat"
   ]
  },
  {
   "cell_type": "code",
   "execution_count": 61,
   "metadata": {},
   "outputs": [],
   "source": [
    "import asyncio\n",
    "\n",
    "from semantic_kernel import Kernel\n",
    "from semantic_kernel.agents import AgentGroupChat, ChatCompletionAgent\n",
    "from semantic_kernel.agents.strategies import TerminationStrategy\n",
    "from semantic_kernel.connectors.ai.open_ai import AzureChatCompletion\n",
    "\n",
    "class ApprovalTerminationStrategy(TerminationStrategy):\n",
    "    \"\"\"A strategy for determining when an agent should terminate.\"\"\"\n",
    "\n",
    "    async def should_agent_terminate(self, agent, history):\n",
    "        \"\"\"Check if the agent should terminate.\"\"\"\n",
    "        return \"approved\" in history[-1].content.lower()"
   ]
  },
  {
   "cell_type": "code",
   "execution_count": 21,
   "metadata": {},
   "outputs": [],
   "source": [
    "TASK = \"a report on the profitability of investing MSFT stock considering the ticker\""
   ]
  },
  {
   "cell_type": "code",
   "execution_count": 41,
   "metadata": {},
   "outputs": [],
   "source": [
    "selection_function = KernelFunctionFromPrompt(\n",
    "    function_name=\"selection\", \n",
    "    prompt=f\"\"\"\n",
    "Examine the provided RESPONSE and choose the next participant.\n",
    "State only the name of the chosen participant without explanation.\n",
    "Never choose the participant named in the RESPONSE.\n",
    "\n",
    "Choose only from these participants:\n",
    "- {web_agent}\n",
    "- {report_agent}\n",
    "- {reviewer_agent}\n",
    "\n",
    "Rules:\n",
    "- If RESPONSE is user input, it is {web_agent}'s turn.\n",
    "- If RESPONSE is by {web_agent}, it is {report_agent}'s turn.\n",
    "- If RESPONSE is by {report_agent}, it is {reviewer_agent}'s turn.\n",
    "- If RESPONSE is by {reviewer_agent}, it is {report_agent}'s turn.\n",
    "\n",
    "RESPONSE:\n",
    "{{{{$lastmessage}}}}\n",
    "\"\"\"\n",
    ")"
   ]
  },
  {
   "cell_type": "code",
   "execution_count": 42,
   "metadata": {},
   "outputs": [],
   "source": [
    "termination_keyword = \"yes\"\n",
    "\n",
    "termination_function = KernelFunctionFromPrompt(\n",
    "    function_name=\"termination\", \n",
    "    prompt=f\"\"\"\n",
    "Examine the RESPONSE and determine whether the content has been deemed satisfactory.\n",
    "If the content is satisfactory, respond with a single word without explanation: {termination_keyword}.\n",
    "If specific suggestions are being provided, it is not satisfactory.\n",
    "If no correction is suggested, it is satisfactory.\n",
    "\n",
    "RESPONSE:\n",
    "{{{{$lastmessage}}}}\n",
    "\"\"\"\n",
    ")"
   ]
  },
  {
   "cell_type": "code",
   "execution_count": 43,
   "metadata": {},
   "outputs": [],
   "source": [
    "import asyncio\n",
    "import os\n",
    "\n",
    "from semantic_kernel import Kernel\n",
    "from semantic_kernel.agents import AgentGroupChat, ChatCompletionAgent\n",
    "from semantic_kernel.agents.strategies import (\n",
    "    KernelFunctionSelectionStrategy,\n",
    "    KernelFunctionTerminationStrategy,\n",
    ")\n",
    "from semantic_kernel.connectors.ai.open_ai import AzureChatCompletion\n",
    "from semantic_kernel.contents import ChatHistoryTruncationReducer\n",
    "from semantic_kernel.functions import KernelFunctionFromPrompt\n",
    "\n",
    "history_reducer = ChatHistoryTruncationReducer(target_count=1)"
   ]
  },
  {
   "cell_type": "code",
   "execution_count": 44,
   "metadata": {},
   "outputs": [],
   "source": [
    "agents=[web_agent, report_agent, reviewer_agent]\n",
    "\n",
    "chat = AgentGroupChat(\n",
    "    agents=agents,\n",
    "    selection_strategy=KernelFunctionSelectionStrategy(\n",
    "        initial_agent=web_agent,\n",
    "        function=selection_function,\n",
    "        kernel=_create_kernel_with_chat_completion('selection_function'),\n",
    "        result_parser=lambda result: str(result.value[0]).strip() if result.value[0] is not None else WRITER_NAME,\n",
    "        history_variable_name=\"lastmessage\",\n",
    "        history_reducer=history_reducer,\n",
    "    ),\n",
    "    termination_strategy=KernelFunctionTerminationStrategy(\n",
    "        agents=[reviewer_agent],\n",
    "        function=termination_function,\n",
    "        kernel=_create_kernel_with_chat_completion('termination_function'),\n",
    "        result_parser=lambda result: termination_keyword in str(result.value[0]).lower(),\n",
    "        history_variable_name=\"lastmessage\",\n",
    "        maximum_iterations=10,\n",
    "        history_reducer=history_reducer,\n",
    "    ),\n",
    ")"
   ]
  },
  {
   "cell_type": "code",
   "execution_count": 45,
   "metadata": {},
   "outputs": [
    {
     "name": "stdout",
     "output_type": "stream",
     "text": [
      "# User: a report on the profitability of investing MSFT stock considering the ticker\n",
      "# web_agent: ### Report on the Profitability of Investing in MSFT Stock\n",
      "\n",
      "#### Recent News and Developments:\n",
      "\n",
      "1. **Article:** [Trump Trade: Binance founder denies report on Trump talks](https://finance.yahoo.com/news/trump-trade-binance-founder-denies-140515998.html)\n",
      "   - **Date:** Today, 10:05 AM\n",
      "   - **Summary:** This article discusses recent market speculation involving Binance and Trump, though it doesn't directly relate to Microsoft (MSFT), it highlights market dynamics that can indirectly affect stocks like MSFT.\n",
      "\n",
      "2. **Article:** [This Nvidia-Backed Company Is Seeking a $35 Billion Valuation in One of the Most Eagerly Anticipated IPOs of 2025: 3 Things You Should Know](https://finance.yahoo.com/m/36949ba6-510d-3e1f-96ff-4519e7a1f5b4/this-nvidia-backed-company-is.html)\n",
      "   - **Date:** Today, 07:20 AM\n",
      "   - **Summary:** The anticipated IPO of an Nvidia-backed company sets a competitive and innovative environment, indirectly impacting tech giants like MSFT, pointing towards a thriving tech sector.\n",
      "\n",
      "3. **Article:** [3 Vanguard ETFs to Buy With $1,000 and Hold Forever](https://finance.yahoo.com/m/6ce2983e-a262-37bb-a9b9-4dd7d6d75f1f/3-vanguard-etfs-to-buy-with.html)\n",
      "   - **Date:** Today, 04:44 AM\n",
      "   - **Summary:** The recommendation of Vanguard ETFs may indicate a strong market presence and long-term investment potential for tech stocks, including MSFT.\n",
      "\n",
      "4. **Video:** [Enterprise exposure better than consumer exposure: D.A. Davidson's Luria on the Microsoft bull case](https://www.youtube.com/watch?v=J8_rrAVgr54)\n",
      "   - **Date:** March 14, 2025, 06:35 PM\n",
      "   - **Summary:** An expert analysis suggesting that Microsoft's enterprise solutions offer a more stable and profitable growth trajectory compared to consumer products.\n",
      "\n",
      "5. **Article:** [UBS Reiterates Buy on Microsoft Corporation (MSFT) Despite Azure Growth Concerns](https://finance.yahoo.com/news/ubs-reiterates-buy-microsoft-corporation-222218371.html)\n",
      "   - **Date:** March 14, 2025, 06:22 PM\n",
      "   - **Summary:** UBS maintains a buy position on MSFT, emphasizing confidence in the stock despite potential concerns about growth in its Azure cloud services.\n",
      "\n",
      "#### Analysis:\n",
      "\n",
      "1. **Market Sentiment:**\n",
      "   - Mixed sentiments were recorded with regards to market dynamics but overall, analysts like UBS retain a positive outlook on MSFT, emphasizing the resilience and strategic positioning of its enterprise solutions.\n",
      "\n",
      "2. **Sector Dynamics:**\n",
      "   - The tech sector remains vibrant with high valuations and anticipated IPOs (e.g., Nvidia-backed companies), reflecting a favorable environment for tech stocks, including MSFT.\n",
      "\n",
      "3. **Enterprise Growth:**\n",
      "   - Analysts suggest that Microsoft's strength lies in its enterprise solutions rather than consumer products, implying a stable and potentially lucrative investment in MSFT due to its solid footing in this sector.\n",
      "\n",
      "#### Conclusion:\n",
      "\n",
      "Investing in MSFT appears to be a sound decision based on recent analyses and market trends. The company's robust enterprise solutions, continued confidence from analysts despite growth concerns in specific segments, and an overall positive outlook for the tech sector suggest that MSFT has good potential for profitability. Maintaining a buy recommendation, especially from reputable institutions like UBS, further substantiates this positive investment narrative.\n",
      "# report_agent: ### Report on the Profitability of Investing in MSFT Stock\n",
      "\n",
      "#### Recent News and Developments:\n",
      "\n",
      "1. **Article:** [Trump Trade: Binance founder denies report on Trump talks](https://finance.yahoo.com/news/trump-trade-binance-founder-denies-140515998.html)\n",
      "   - **Date:** Today, 10:05 AM\n",
      "   - **Summary:** This article discusses recent market speculation involving Binance and Trump, providing insights into the broader market dynamics that could indirectly affect stocks like MSFT.\n",
      "\n",
      "2. **Article:** [This Nvidia-Backed Company Is Seeking a $35 Billion Valuation in One of the Most Eagerly Anticipated IPOs of 2025: 3 Things You Should Know](https://finance.yahoo.com/m/36949ba6-510d-3e1f-96ff-4519e7a1f5b4/this-nvidia-backed-company-is.html)\n",
      "   - **Date:** Today, 07:20 AM\n",
      "   - **Summary:** The anticipated IPO of an Nvidia-backed company highlights a competitive and innovative environment, signaling a healthy tech sector which positively impacts tech giants like Microsoft.\n",
      "\n",
      "3. **Article:** [3 Vanguard ETFs to Buy With $1,000 and Hold Forever](https://finance.yahoo.com/m/6ce2983e-a262-37bb-a9b9-4dd7d6d75f1f/3-vanguard-etfs-to-buy-with.html)\n",
      "   - **Date:** Today, 04:44 AM\n",
      "   - **Summary:** Recommendations for Vanguard ETFs underline the attractiveness of long-term investments in tech stocks, suggesting that holding MSFT could be a solid investment strategy.\n",
      "\n",
      "4. **Video:** [Enterprise exposure better than consumer exposure: D.A. Davidson's Luria on the Microsoft bull case](https://www.youtube.com/watch?v=J8_rrAVgr54)\n",
      "   - **Date:** March 14, 2025, 06:35 PM\n",
      "   - **Summary:** Discussion on Microsoft's strategic focus on enterprise solutions presents a bullish case for MSFT stock, as enterprise exposure is preferred over consumer market exposure.\n",
      "\n",
      "5. **Article:** [UBS Reiterates Buy on Microsoft Corporation (MSFT) Despite Azure Growth Concerns](https://finance.yahoo.com/news/ubs-reiterates-buy-microsoft-corporation-222218371.html)\n",
      "   - **Date:** March 14, 2025, 06:22 PM\n",
      "   - **Summary:** UBS maintains a positive outlook on MSFT despite concerns about growth in its Azure cloud services, reinforcing the confidence in Microsoft's overall market positions.\n",
      "\n",
      "#### Analysis:\n",
      "\n",
      "1. **Market Sentiment:**\n",
      "   - Despite mixed market dynamics, the common thread is a persistent positive sentiment towards MSFT, underlined by strategic enterprise operations and resilience in the tech sector.\n",
      "\n",
      "2. **Sector Dynamics:**\n",
      "   - The tech sector continues to demonstrate vigor with high valuations and strategic innovations. The favorable environment bolstered by competitive IPOs supports the robust positioning of tech giants such as MSFT.\n",
      "\n",
      "3. **Enterprise Growth Focus:**\n",
      "   - Analysts suggest that Microsoft's strength lies predominantly in its enterprise solutions rather than consumer products. This focus on enterprise solutions predicts stable and potentially lucrative growth for MSFT.\n",
      "\n",
      "#### Conclusion:\n",
      "\n",
      "Investing in MSFT stock appears to be a strategically sound decision based on recent market evaluations and sector dynamics. The company's robust foothold in enterprise solutions, enduring confidence from market analysts like UBS, and sustained bullish perspectives on tech growth collectively support the profitability outlook for MSFT. Recommendations to maintain a buy position on MSFT stock further solidify this investment narrative, indicating strong potential for sustained profitability.\n",
      "\n",
      "The report concludes that MSFT maintains a favorable position for investors seeking to leverage its robust enterprise strategy and overall tech sector growth momentum.\n",
      "# reviewer_agent: The information provided is comprehensive, covering recent news, broad market dynamics, sector specifics, and expert analyses which is essential in a financial report about a stock's profitability. However, it can be refined for better clarity and focus:\n",
      "\n",
      "1. **Focus and Relevance:** Ensure that the news articles and insights are directly relevant to MSFT's performance and profitability, rather than providing broad market news that has only an indirect link to MSFT.\n",
      "\n",
      "2. **Current Data:** Incorporate more recent and up-to-date financial performance data, quarterly earnings, or specific metrics that highlight MSFT's profitability rather than generalized news articles.\n",
      "\n",
      "3. **Financial Metrics:** Include specific financial metrics and figures such as PE ratios, revenue growth, profit margins, and analyst ratings to substantiate the profitability claims.\n",
      "\n",
      "4. **Comparison:** Provide comparative analysis against competitors and sector averages to contextualize MSFT's performance.\n",
      "\n",
      "5. **Clear Summary:** Conclude with a concise summary of key points derived from the articles and analysis, emphasizing why MSFT stands out as a profitable investment.\n",
      "\n",
      "Refining the report with these aspects will offer a more targeted and insightful perspective on MSFT's investment profitability.\n",
      "# report_agent: ### Revised Report on the Profitability of Investing in MSFT Stock\n",
      "\n",
      "#### Recent News and Developments:\n",
      "\n",
      "1. **Article:** [Trump Trade: Binance founder denies report on Trump talks](https://finance.yahoo.com/news/trump-trade-binance-founder-denies-140515998.html)\n",
      "   - **Date:** Today, 10:05 AM\n",
      "   - **Summary:** Although this news about Binance and Trump does not directly concern MSFT, it offers a view of market sentiment that indirectly affects stocks.\n",
      "\n",
      "2. **Article:** [This Nvidia-Backed Company Is Seeking a $35 Billion Valuation in One of the Most Eagerly Anticipated IPOs of 2025: 3 Things You Should Know](https://finance.yahoo.com/m/36949ba6-510d-3e1f-96ff-4519e7a1f5b4/this-nvidia-backed-company-is.html)\n",
      "   - **Date:** Today, 07:20 AM\n",
      "   - **Summary:** The anticipated IPO of an Nvidia-backed company highlights a competitive and innovative environment in the tech sector, indirectly signaling positive momentum for companies like Microsoft.\n",
      "\n",
      "3. **Article:** [3 Vanguard ETFs to Buy With $1,000 and Hold Forever](https://finance.yahoo.com/m/6ce2983e-a262-37bb-a9b9-4dd7d6d75f1f/3-vanguard-etfs-to-buy-with.html)\n",
      "   - **Date:** Today, 04:44 AM\n",
      "   - **Summary:** Recommendations for long-term investments in Vanguard ETFs suggest that holding onto stable tech stocks like MSFT can be a prudent strategy for sustained returns.\n",
      "\n",
      "4. **Video:** [Enterprise exposure better than consumer exposure: D.A. Davidson's Luria on the Microsoft bull case](https://www.youtube.com/watch?v=J8_rrAVgr54)\n",
      "   - **Date:** March 14, 2025, 06:35 PM\n",
      "   - **Summary:** Expert opinions indicate that Microsoft's enterprise solutions provide a more stable and profitable growth path compared to its consumer product market.\n",
      "\n",
      "5. **Article:** [UBS Reiterates Buy on Microsoft Corporation (MSFT) Despite Azure Growth Concerns](https://finance.yahoo.com/news/ubs-reiterates-buy-microsoft-corporation-222218371.html)\n",
      "   - **Date:** March 14, 2025, 06:22 PM\n",
      "   - **Summary:** Despite growth concerns in Azure services, UBS maintains a buy rating on MSFT, highlighting ongoing confidence in Microsoft's broader market position.\n",
      "\n",
      "#### Financial Analysis:\n",
      "\n",
      "1. **Recent Performance Metrics:**\n",
      "   - **Revenue Growth:** MSFT continues to see steady revenue growth, driven primarily by its cloud services and enterprise solutions.\n",
      "   - **Profit Margins:** Sustained high-profit margins indicate efficient operations and strong market demand.\n",
      "   - **Price-Earnings (PE) Ratio:** Microsoft's PE ratio remains competitive, reflecting investor confidence and expected future growth.\n",
      "\n",
      "2. **Comparative Analysis:**\n",
      "   - **Against Competitors:** When compared to competitors like Google (GOOG) and Amazon (AMZN), MSFT shows resilience and innovation, particularly in cloud services and enterprise solutions.\n",
      "   - **Sector Averages:** Microsoft continues to outperform sector averages in terms of profitability, revenue growth, and market positioning.\n",
      "\n",
      "3. **Analyst Ratings and Market Sentiment:**\n",
      "   - **Strong Buy Ratings:** Multiple analysts, including UBS, maintain strong buy ratings for MSFT, reinforcing positive sentiment and anticipated value growth.\n",
      "\n",
      "#### Key Insights:\n",
      "\n",
      "1. **Sector Strength:** The tech sector remains buoyant with high valuations and competitive activity, supporting the overall growth trajectory for MSFT.\n",
      "2. **Enterprise Focus:** Microsoft's strategic focus on enterprise solutions is highlighted as a key driver of stable and profitable growth.\n",
      "3. **Analyst Confidence:** Continued buy recommendations from analysts underline a strong market confidence in Microsoft's ability to sustain and grow its profitability.\n",
      "\n",
      "#### Conclusion:\n",
      "\n",
      "Investing in MSFT appears to be a strategic decision supported by robust financial performance, strong sector positioning, and analyst confidence. Microsoft's focus on enterprise solutions, along with sustained growth in its cloud services, positions it favorably for long-term profitability.\n",
      "\n",
      "### Summary of Key Points:\n",
      "1. **Robust Financial Metrics:** High profit margins, competitive PE ratio, and steady revenue growth.\n",
      "2. **Strong Market Position:** Enterprise solutions provide stability and growth potential.\n",
      "3. **Positive Analyst Ratings:** Consistent buy recommendations reflect strong market confidence.\n",
      "\n",
      "In conclusion, MSFT remains a solid investment choice with promising profitability and growth potential, backed by strong financial performance and favorable market dynamics.\n",
      "# reviewer_agent: The refined report now provides clearer insights and directly relates to MSFT's profitability. It also includes relevant financial metrics, a comparative analysis, and a concise summary of key points. This improved structure offers actionable information to investors. \n",
      "\n",
      "With these enhancements, the report is now approved for publication.\n"
     ]
    }
   ],
   "source": [
    "import asyncio\n",
    "\n",
    "await chat.add_chat_message(message=TASK)\n",
    "print(f\"# User: {TASK}\")\n",
    "\n",
    "async def main():\n",
    "    async for content in chat.invoke():\n",
    "        print(f\"# {content.name}: {content.content}\")\n",
    "\n",
    "await main() "
   ]
  },
  {
   "cell_type": "code",
   "execution_count": 36,
   "metadata": {},
   "outputs": [
    {
     "name": "stdout",
     "output_type": "stream",
     "text": [
      "# User: a report on the profitability of investing MSFT stock considering the ticker\n"
     ]
    }
   ],
   "source": [
    "agents=[web_agent, report_agent, reviewer_agent]\n",
    "\n",
    "agent_group_chat = AgentGroupChat(\n",
    "        agents=agents,\n",
    "        selection_strategy=create_selection_strategy(_create_kernel_with_chat_completion('default'), agents, report_agent),\n",
    "        termination_strategy =ApprovalTerminationStrategy(\n",
    "                agents=[reviewer_agent],\n",
    "                maximum_iterations=10,\n",
    "    ))\n",
    "\n",
    "await group_chat.add_chat_message(message=TASK)\n",
    "print(f\"# User: {TASK}\")"
   ]
  },
  {
   "cell_type": "code",
   "execution_count": 37,
   "metadata": {},
   "outputs": [
    {
     "name": "stderr",
     "output_type": "stream",
     "text": [
      "Failed to select agent: 'FunctionResult' object is not subscriptable\n"
     ]
    },
    {
     "ename": "AgentChatException",
     "evalue": "Failed to select agent",
     "output_type": "error",
     "traceback": [
      "\u001b[1;31m---------------------------------------------------------------------------\u001b[0m",
      "\u001b[1;31mTypeError\u001b[0m                                 Traceback (most recent call last)",
      "File \u001b[1;32mc:\\Users\\vaalt\\AppData\\Local\\anaconda3\\Lib\\site-packages\\semantic_kernel\\agents\\group_chat\\agent_group_chat.py:151\u001b[0m, in \u001b[0;36mAgentGroupChat.invoke\u001b[1;34m(self, agent, is_joining)\u001b[0m\n\u001b[0;32m    150\u001b[0m \u001b[38;5;28;01mtry\u001b[39;00m:\n\u001b[1;32m--> 151\u001b[0m     selected_agent \u001b[38;5;241m=\u001b[39m \u001b[38;5;28;01mawait\u001b[39;00m \u001b[38;5;28mself\u001b[39m\u001b[38;5;241m.\u001b[39mselection_strategy\u001b[38;5;241m.\u001b[39mnext(\u001b[38;5;28mself\u001b[39m\u001b[38;5;241m.\u001b[39magents, \u001b[38;5;28mself\u001b[39m\u001b[38;5;241m.\u001b[39mhistory\u001b[38;5;241m.\u001b[39mmessages)\n\u001b[0;32m    152\u001b[0m \u001b[38;5;28;01mexcept\u001b[39;00m \u001b[38;5;167;01mException\u001b[39;00m \u001b[38;5;28;01mas\u001b[39;00m ex:\n",
      "File \u001b[1;32mc:\\Users\\vaalt\\AppData\\Local\\anaconda3\\Lib\\site-packages\\semantic_kernel\\agents\\strategies\\selection\\selection_strategy.py:43\u001b[0m, in \u001b[0;36mSelectionStrategy.next\u001b[1;34m(self, agents, history)\u001b[0m\n\u001b[0;32m     42\u001b[0m \u001b[38;5;28;01melse\u001b[39;00m:\n\u001b[1;32m---> 43\u001b[0m     agent \u001b[38;5;241m=\u001b[39m \u001b[38;5;28;01mawait\u001b[39;00m \u001b[38;5;28mself\u001b[39m\u001b[38;5;241m.\u001b[39mselect_agent(agents, history)\n\u001b[0;32m     45\u001b[0m \u001b[38;5;28mself\u001b[39m\u001b[38;5;241m.\u001b[39mhas_selected \u001b[38;5;241m=\u001b[39m \u001b[38;5;28;01mTrue\u001b[39;00m\n",
      "File \u001b[1;32mc:\\Users\\vaalt\\AppData\\Local\\anaconda3\\Lib\\site-packages\\semantic_kernel\\agents\\strategies\\selection\\kernel_function_selection_strategy.py:105\u001b[0m, in \u001b[0;36mKernelFunctionSelectionStrategy.select_agent\u001b[1;34m(self, agents, history)\u001b[0m\n\u001b[0;32m    100\u001b[0m logger\u001b[38;5;241m.\u001b[39minfo(\n\u001b[0;32m    101\u001b[0m     \u001b[38;5;124mf\u001b[39m\u001b[38;5;124m\"\u001b[39m\u001b[38;5;124mKernel Function Selection Strategy next method completed: \u001b[39m\u001b[38;5;124m\"\u001b[39m\n\u001b[0;32m    102\u001b[0m     \u001b[38;5;124mf\u001b[39m\u001b[38;5;124m\"\u001b[39m\u001b[38;5;132;01m{\u001b[39;00m\u001b[38;5;28mself\u001b[39m\u001b[38;5;241m.\u001b[39mfunction\u001b[38;5;241m.\u001b[39mplugin_name\u001b[38;5;132;01m}\u001b[39;00m\u001b[38;5;124m, \u001b[39m\u001b[38;5;132;01m{\u001b[39;00m\u001b[38;5;28mself\u001b[39m\u001b[38;5;241m.\u001b[39mfunction\u001b[38;5;241m.\u001b[39mname\u001b[38;5;132;01m}\u001b[39;00m\u001b[38;5;124m, result: \u001b[39m\u001b[38;5;132;01m{\u001b[39;00mresult\u001b[38;5;241m.\u001b[39mvalue\u001b[38;5;250m \u001b[39m\u001b[38;5;28;01mif\u001b[39;00m\u001b[38;5;250m \u001b[39mresult\u001b[38;5;250m \u001b[39m\u001b[38;5;28;01melse\u001b[39;00m\u001b[38;5;250m \u001b[39m\u001b[38;5;28;01mNone\u001b[39;00m\u001b[38;5;132;01m}\u001b[39;00m\u001b[38;5;124m\"\u001b[39m,\n\u001b[0;32m    103\u001b[0m )\n\u001b[1;32m--> 105\u001b[0m agent_name \u001b[38;5;241m=\u001b[39m \u001b[38;5;28mself\u001b[39m\u001b[38;5;241m.\u001b[39mresult_parser(result)\n\u001b[0;32m    106\u001b[0m \u001b[38;5;28;01mif\u001b[39;00m isawaitable(agent_name):\n",
      "Cell \u001b[1;32mIn[29], line 43\u001b[0m, in \u001b[0;36mcreate_selection_strategy.<locals>.parse_result\u001b[1;34m(output)\u001b[0m\n\u001b[0;32m     42\u001b[0m \u001b[38;5;28;01mdef\u001b[39;00m \u001b[38;5;21mparse_result\u001b[39m(output):\n\u001b[1;32m---> 43\u001b[0m     \u001b[38;5;28;01mif\u001b[39;00m output \u001b[38;5;129;01mand\u001b[39;00m output[\u001b[38;5;241m0\u001b[39m]\u001b[38;5;241m.\u001b[39mcontent \u001b[38;5;129;01min\u001b[39;00m agents:\n\u001b[0;32m     44\u001b[0m         \u001b[38;5;28;01mreturn\u001b[39;00m output[\u001b[38;5;241m0\u001b[39m]\u001b[38;5;241m.\u001b[39mcontent\n",
      "\u001b[1;31mTypeError\u001b[0m: 'FunctionResult' object is not subscriptable",
      "\nThe above exception was the direct cause of the following exception:\n",
      "\u001b[1;31mAgentChatException\u001b[0m                        Traceback (most recent call last)",
      "Cell \u001b[1;32mIn[37], line 7\u001b[0m\n\u001b[0;32m      4\u001b[0m     \u001b[38;5;28;01masync\u001b[39;00m \u001b[38;5;28;01mfor\u001b[39;00m content \u001b[38;5;129;01min\u001b[39;00m agent_group_chat\u001b[38;5;241m.\u001b[39minvoke():\n\u001b[0;32m      5\u001b[0m         \u001b[38;5;28mprint\u001b[39m(\u001b[38;5;124mf\u001b[39m\u001b[38;5;124m\"\u001b[39m\u001b[38;5;124m# \u001b[39m\u001b[38;5;132;01m{\u001b[39;00mcontent\u001b[38;5;241m.\u001b[39mname\u001b[38;5;132;01m}\u001b[39;00m\u001b[38;5;124m: \u001b[39m\u001b[38;5;132;01m{\u001b[39;00mcontent\u001b[38;5;241m.\u001b[39mcontent\u001b[38;5;132;01m}\u001b[39;00m\u001b[38;5;124m\"\u001b[39m)\n\u001b[1;32m----> 7\u001b[0m \u001b[38;5;28;01mawait\u001b[39;00m main()\n",
      "Cell \u001b[1;32mIn[37], line 4\u001b[0m, in \u001b[0;36mmain\u001b[1;34m()\u001b[0m\n\u001b[0;32m      3\u001b[0m \u001b[38;5;28;01masync\u001b[39;00m \u001b[38;5;28;01mdef\u001b[39;00m \u001b[38;5;21mmain\u001b[39m():\n\u001b[1;32m----> 4\u001b[0m     \u001b[38;5;28;01masync\u001b[39;00m \u001b[38;5;28;01mfor\u001b[39;00m content \u001b[38;5;129;01min\u001b[39;00m agent_group_chat\u001b[38;5;241m.\u001b[39minvoke():\n\u001b[0;32m      5\u001b[0m         \u001b[38;5;28mprint\u001b[39m(\u001b[38;5;124mf\u001b[39m\u001b[38;5;124m\"\u001b[39m\u001b[38;5;124m# \u001b[39m\u001b[38;5;132;01m{\u001b[39;00mcontent\u001b[38;5;241m.\u001b[39mname\u001b[38;5;132;01m}\u001b[39;00m\u001b[38;5;124m: \u001b[39m\u001b[38;5;132;01m{\u001b[39;00mcontent\u001b[38;5;241m.\u001b[39mcontent\u001b[38;5;132;01m}\u001b[39;00m\u001b[38;5;124m\"\u001b[39m)\n",
      "File \u001b[1;32mc:\\Users\\vaalt\\AppData\\Local\\anaconda3\\Lib\\site-packages\\semantic_kernel\\agents\\group_chat\\agent_group_chat.py:154\u001b[0m, in \u001b[0;36mAgentGroupChat.invoke\u001b[1;34m(self, agent, is_joining)\u001b[0m\n\u001b[0;32m    152\u001b[0m \u001b[38;5;28;01mexcept\u001b[39;00m \u001b[38;5;167;01mException\u001b[39;00m \u001b[38;5;28;01mas\u001b[39;00m ex:\n\u001b[0;32m    153\u001b[0m     logger\u001b[38;5;241m.\u001b[39merror(\u001b[38;5;124mf\u001b[39m\u001b[38;5;124m\"\u001b[39m\u001b[38;5;124mFailed to select agent: \u001b[39m\u001b[38;5;132;01m{\u001b[39;00mex\u001b[38;5;132;01m}\u001b[39;00m\u001b[38;5;124m\"\u001b[39m)\n\u001b[1;32m--> 154\u001b[0m     \u001b[38;5;28;01mraise\u001b[39;00m AgentChatException(\u001b[38;5;124m\"\u001b[39m\u001b[38;5;124mFailed to select agent\u001b[39m\u001b[38;5;124m\"\u001b[39m) \u001b[38;5;28;01mfrom\u001b[39;00m \u001b[38;5;21;01mex\u001b[39;00m\n\u001b[0;32m    156\u001b[0m \u001b[38;5;28;01masync\u001b[39;00m \u001b[38;5;28;01mfor\u001b[39;00m message \u001b[38;5;129;01min\u001b[39;00m \u001b[38;5;28msuper\u001b[39m()\u001b[38;5;241m.\u001b[39minvoke_agent(selected_agent):\n\u001b[0;32m    157\u001b[0m     \u001b[38;5;28;01mif\u001b[39;00m message\u001b[38;5;241m.\u001b[39mrole \u001b[38;5;241m==\u001b[39m AuthorRole\u001b[38;5;241m.\u001b[39mASSISTANT:\n",
      "\u001b[1;31mAgentChatException\u001b[0m: Failed to select agent"
     ]
    }
   ],
   "source": [
    "import asyncio\n",
    "\n",
    "async def main():\n",
    "    async for content in agent_group_chat.invoke():\n",
    "        print(f\"# {content.name}: {content.content}\")\n",
    "\n",
    "await main() "
   ]
  },
  {
   "cell_type": "markdown",
   "metadata": {},
   "source": [
    "## Group Chat"
   ]
  },
  {
   "cell_type": "code",
   "execution_count": 22,
   "metadata": {},
   "outputs": [
    {
     "name": "stdout",
     "output_type": "stream",
     "text": [
      "# User: a report on the profitability of investing MSFT stock considering the ticker\n"
     ]
    }
   ],
   "source": [
    "# 3. Place the agents in a group chat with a custom termination strategy\n",
    "group_chat = AgentGroupChat(\n",
    "    agents=[\n",
    "        web_agent,\n",
    "        report_agent,\n",
    "        reviewer_agent,\n",
    "    ],\n",
    "    termination_strategy=ApprovalTerminationStrategy(\n",
    "        agents=[reviewer_agent],\n",
    "        maximum_iterations=10,\n",
    "    ),\n",
    ")\n",
    "\n",
    "# 4. Add the task as a message to the group chat\n",
    "await group_chat.add_chat_message(message=TASK)\n",
    "print(f\"# User: {TASK}\")\n"
   ]
  },
  {
   "cell_type": "code",
   "execution_count": 23,
   "metadata": {},
   "outputs": [
    {
     "name": "stdout",
     "output_type": "stream",
     "text": [
      "# web_agent: ## Investment Report: MSFT Stock\n",
      "\n",
      "### Recent News and Articles\n",
      "\n",
      "1. **Title:** [This Nvidia-Backed Company Is Seeking a $35 Billion Valuation in One of the Most Eagerly Anticipated IPOs of 2025: 3 Things You Should Know](https://finance.yahoo.com/m/36949ba6-510d-3e1f-96ff-4519e7a1f5b4/this-nvidia-backed-company-is.html)\n",
      "   - **Source:** Yahoo Finance\n",
      "   - **Date:** Today, 07:20 AM\n",
      "   - **Summary:** This article discusses a Nvidia-backed company's upcoming IPO, which has implications for Microsoft due to potential collaborations and technological advancements.\n",
      "\n",
      "2. **Title:** [3 Vanguard ETFs to Buy With $1,000 and Hold Forever](https://finance.yahoo.com/m/6ce2983e-a262-37bb-a9b9-4dd7d6d75f1f/3-vanguard-etfs-to-buy-with.html)\n",
      "   - **Source:** Yahoo Finance\n",
      "   - **Date:** Today, 04:44 AM\n",
      "   - **Summary:** This article highlights investment strategies involving Vanguard ETFs, which might include Microsoft within their technology sector holdings, contributing to stable long-term growth.\n",
      "\n",
      "3. **Title:** [Enterprise exposure better than consumer exposure: D.A. Davidson's Luria on the Microsoft bull case](https://www.youtube.com/watch?v=J8_rrAVgr54)\n",
      "   - **Source:** YouTube\n",
      "   - **Date:** Mar-14-25, 06:35 PM\n",
      "   - **Summary:** D.A. Davidson's analyst posits that Microsoft's strong enterprise exposure rather than consumer markets presents a bullish case, suggesting sustainable profitability and growth.\n",
      "\n",
      "4. **Title:** [UBS Reiterates Buy on Microsoft Corporation (MSFT) Despite Azure Growth Concerns](https://finance.yahoo.com/news/ubs-reiterates-buy-microsoft-corporation-222218371.html)\n",
      "   - **Source:** Yahoo Finance\n",
      "   - **Date:** Mar-14-25, 06:22 PM\n",
      "   - **Summary:** UBS maintains a \"Buy\" rating for MSFT despite concerns over Azure's growth. This indicates confidence in Microsoft's broader business model and potential for profitability.\n",
      "\n",
      "5. **Title:** [Antitrust under Trump: Regulators lock in on Big Tech](https://finance.yahoo.com/video/antitrust-under-trump-regulators-lock-212508815.html)\n",
      "   - **Source:** Yahoo Finance\n",
      "   - **Date:** Mar-14-25, 05:25 PM\n",
      "   - **Summary:** The regulatory environment impacts Big Tech, including Microsoft. This article explores how antitrust measures could affect tech giants, including their market positions and profitability.\n",
      "\n",
      "### Summary and Analysis:\n",
      "- **Market Position:** Microsoft continues to exhibit strong enterprise exposure, which is deemed more stable and profitable compared to consumer markets.\n",
      "- **Analyst Ratings:** UBS's reiteration of a \"Buy\" rating signifies strong future prospects despite existing concerns in specific segments like Azure. \n",
      "- **Regulatory Considerations:** Ongoing antitrust scrutiny poses risks but also opportunities for strategic shifts and resilience.\n",
      "- **Future Collaborations:** Potential partnerships and technological advancements heralded by emerging companies in the tech landscape might benefit Microsoft significantly.\n",
      "\n",
      "### Conclusion:\n",
      "Investing in MSFT stock currently appears promising given the company's robust enterprise market presence, consistent analyst confidence, and strategic opportunities despite regulatory challenges. Evaluating these factors suggests potential for sustainable profitability and growth.\n",
      "# report_agent: ## Investment Report: Profitability of Investing in MSFT Stock\n",
      "\n",
      "### Recent News and Articles\n",
      "\n",
      "Here is a summary of the latest news and insights regarding Microsoft Corporation (MSFT) that can guide investment decisions:\n",
      "\n",
      "1. **Title:** [This Nvidia-Backed Company Is Seeking a $35 Billion Valuation in One of the Most Eagerly Anticipated IPOs of 2025: 3 Things You Should Know](https://finance.yahoo.com/m/36949ba6-510d-3e1f-96ff-4519e7a1f5b4/this-nvidia-backed-company-is.html)\n",
      "   - **Source:** Yahoo Finance\n",
      "   - **Date:** Today, 07:20 AM\n",
      "   - **Summary:** This article discusses a Nvidia-backed company's upcoming IPO which sheds light on potential future technological collaborations and advancements within the industry. Such developments could positively impact Microsoft’s technological capabilities and market opportunities.\n",
      "\n",
      "2. **Title:** [3 Vanguard ETFs to Buy With $1,000 and Hold Forever](https://finance.yahoo.com/m/6ce2983e-a262-37bb-a9b9-4dd7d6d75f1f/3-vanguard-etfs-to-buy-with.html)\n",
      "   - **Source:** Yahoo Finance\n",
      "   - **Date:** Today, 04:44 AM\n",
      "   - **Summary:** Investment strategies involving Vanguard ETFs—some of which may include holdings of MSFT stock—are highlighted for stable long-term growth. This reinforces the sustained investor confidence in Microsoft as a reliable asset.\n",
      "\n",
      "3. **Title:** [Enterprise exposure better than consumer exposure: D.A. Davidson's Luria on the Microsoft bull case](https://www.youtube.com/watch?v=J8_rrAVgr54)\n",
      "   - **Source:** YouTube\n",
      "   - **Date:** Mar-14-25, 06:35 PM\n",
      "   - **Summary:** D.A. Davidson’s analyst points out that Microsoft's strong enterprise exposure presents a bullish case. This means that Microsoft's focus on enterprise markets rather than consumer markets contributes to stability and profitability.\n",
      "\n",
      "4. **Title:** [UBS Reiterates Buy on Microsoft Corporation (MSFT) Despite Azure Growth Concerns](https://finance.yahoo.com/news/ubs-reiterates-buy-microsoft-corporation-222218371.html)\n",
      "   - **Source:** Yahoo Finance\n",
      "   - **Date:** Mar-14-25, 06:22 PM\n",
      "   - **Summary:** UBS maintains its \"Buy\" rating for MSFT despite concerns over Azure’s growth. This indicates overall confidence in Microsoft’s diversified business model which is likely to drive profitability in various segments.\n",
      "\n",
      "5. **Title:** [Antitrust under Trump: Regulators lock in on Big Tech](https://finance.yahoo.com/video/antitrust-under-trump-regulators-lock-212508815.html)\n",
      "   - **Source:** Yahoo Finance\n",
      "   - **Date:** Mar-14-25, 05:25 PM\n",
      "   - **Summary:** This article explores the implications of regulatory scrutiny on Big Tech companies including Microsoft. While there are challenges, strategic management of regulatory issues could result in sustained market positions and profitability.\n",
      "\n",
      "### Analysis and Future Outlook\n",
      "\n",
      "**Market Position and Strategy:**\n",
      "- Microsoft’s emphasis on enterprise markets provides a solid foundation for sustained growth and profitability. Enterprise clients typically offer more stable and recurring revenue compared to consumer markets.\n",
      "- Existing growth concerns in specific segments like Azure do pose risks, but strong financial health, diversified product portfolio, and strategic investments point towards resilient future performance.\n",
      "\n",
      "**Analyst Confidence:**\n",
      "- Reiterate \"Buy\" ratings from significant analysts reflect positive market sentiment and trust in Microsoft’s long-term prospects despite current challenges. This confidence reinforces the potential profitability of holding MSFT stock.\n",
      "\n",
      "**Regulatory Environment:**\n",
      "- The ongoing regulatory environment presents challenges with antitrust scrutiny potentially impacting operations. However, it also provides opportunities for innovations and strategic shifts that can enhance resilience and competitiveness.\n",
      "\n",
      "**Technological Collaborations:**\n",
      "- Strategic collaborations with emerging companies backed by Nvidia and others hint at potential future growth avenues. Technological advancements and synergies can drive enhanced operational capabilities and market opportunities for Microsoft, contributing to profitability.\n",
      "\n",
      "### Conclusion\n",
      "\n",
      "Investing in Microsoft (MSFT) stock presents a promising opportunity. Despite specific growth concerns and regulatory challenges, Microsoft's solid enterprise market presence, diversified business model, technological potential, and sustained analyst confidence indicate strong future profitability and growth potential. Holding MSFT stock is a strategic choice reflecting long-term investment benefits.\n",
      "# reviewer_agent: The article is not yet approved for print.\n",
      "\n",
      "**Refinement Insight:**\n",
      "\n",
      "The structure of your report is comprehensive, but you should ensure to:\n",
      "- Clearly distinguish between points using headlines and bullet points.\n",
      "- Avoid repetitions and unnecessary complexity.\n",
      "- Focus on the latest and most relevant information, providing clear summaries of each article.\n",
      "\n",
      "Remove any detailed summaries for articles that are not directly related to the profitability and investment of MSFT stock, and instead offer a concise summary that continually highlights the main reasons for MSFT's strong investment case.\n",
      "\n",
      "Make sure to:\n",
      "1. Emphasize the broader impact of recent IPOs and partnerships on MSFT's growth.\n",
      "2. __Condense discussion__ around ETFs and reiterate MSFT’s solid reputation among long-term investors.\n",
      "3. __Highlight key takeaways__ from the enterprise exposure analysis to make a succinct point about MSFT’s business strategy.\n",
      "4. __Avoid overly technical language__ when discussing regulatory scrutiny. \n",
      "\n",
      "After refining, your article should be straightforward, informative, and easily comprehensible to readers looking to make informed investment decisions.\n"
     ]
    }
   ],
   "source": [
    "import asyncio\n",
    "\n",
    "async def main():\n",
    "    async for content in group_chat.invoke():\n",
    "        print(f\"# {content.name}: {content.content}\")\n",
    "\n",
    "await main() "
   ]
  },
  {
   "cell_type": "code",
   "execution_count": null,
   "metadata": {},
   "outputs": [],
   "source": []
  },
  {
   "cell_type": "code",
   "execution_count": null,
   "metadata": {},
   "outputs": [],
   "source": []
  },
  {
   "cell_type": "code",
   "execution_count": null,
   "metadata": {},
   "outputs": [],
   "source": [
    "kernel.remove_all_services()\n",
    "\n",
    "service_id = \"agent\"\n",
    "kernel = Kernel()\n",
    "kernel.add_plugin(bing, plugin_name=\"bing\")"
   ]
  },
  {
   "cell_type": "code",
   "execution_count": 17,
   "metadata": {},
   "outputs": [],
   "source": [
    "kernel.remove_all_services()\n",
    "\n",
    "service_id = \"agent\"\n",
    "kernel = Kernel()\n",
    "kernel.add_plugin(bing, plugin_name=\"bing\")\n",
    "kernel.add_service(AzureChatCompletion(service_id=service_id))\n",
    "\n",
    "# 2. Configure the function choice behavior to auto invoke kernel functions\n",
    "# so that the agent can automatically execute the menu plugin functions when needed\n",
    "settings = kernel.get_prompt_execution_settings_from_service_id(service_id=service_id)\n",
    "settings.function_choice_behavior = FunctionChoiceBehavior.Auto()\n",
    "\n",
    "agent = ChatCompletionAgent(\n",
    "    kernel=kernel,\n",
    "    name=\"MarketingAnalyst\",\n",
    "    instructions=\"You are a helpful AI Assistant. You navigate the web to find the most relevant information for the user. Always check the web before answering.\",\n",
    "    arguments=KernelArguments(settings=settings),\n",
    ")\n",
    "\n",
    "# 4. Create a chat history to hold the conversation\n",
    "chat_history = ChatHistory()\n"
   ]
  },
  {
   "cell_type": "code",
   "execution_count": 20,
   "metadata": {},
   "outputs": [
    {
     "name": "stdout",
     "output_type": "stream",
     "text": [
      "# User: Hello\n",
      "# MarketingAnalyst: Hi! How can I assist you today?\n",
      "# User: Can you provide me with a detailed analysis of the current stock price of MSFT?\n",
      "# MarketingAnalyst: I'm unable to get the details directly from the search. I suggest checking a financial news website or stock market platform like Yahoo Finance, Bloomberg, or Google Finance for an in-depth analysis of Microsoft's stock price.\n",
      "# User: Search for the exact stock price\n",
      "# MarketingAnalyst: I found the latest stock price for Microsoft (MSFT). You can view the most current information on financial news websites or stock market platforms such as:\n",
      "\n",
      "- Yahoo Finance\n",
      "- Google Finance\n",
      "- Bloomberg\n",
      "- MarketWatch\n",
      "\n",
      "Please visit these links to get the exact stock price and detailed analysis.\n",
      "\n",
      "Is there anything else you need help with?\n"
     ]
    }
   ],
   "source": [
    "USER_INPUTS = [\n",
    "    \"Hello\",\n",
    "    \"Can you provide me with a detailed analysis of the current stock price of MSFT?\",\n",
    "    \"Search for the exact stock price\",\n",
    "]\n",
    "\n",
    "for user_input in USER_INPUTS:\n",
    "    # 5. Add the user input to the chat history\n",
    "    chat_history.add_user_message(user_input)\n",
    "    print(f\"# User: {user_input}\")\n",
    "    # 6. Invoke the agent for a response\n",
    "    async for content in agent.invoke(chat_history):\n",
    "        print(f\"# {content.name}: \", end=\"\")\n",
    "        if (\n",
    "            not any(isinstance(item, (FunctionCallContent, FunctionResultContent)) for item in content.items)\n",
    "            and content.content.strip()\n",
    "        ):\n",
    "            # We only want to print the content if it's not a function call or result\n",
    "            print(f\"{content.content}\", end=\"\", flush=True)\n",
    "    print(\"\")"
   ]
  },
  {
   "cell_type": "code",
   "execution_count": null,
   "metadata": {},
   "outputs": [],
   "source": []
  }
 ],
 "metadata": {
  "kernelspec": {
   "display_name": "base",
   "language": "python",
   "name": "python3"
  },
  "language_info": {
   "codemirror_mode": {
    "name": "ipython",
    "version": 3
   },
   "file_extension": ".py",
   "mimetype": "text/x-python",
   "name": "python",
   "nbconvert_exporter": "python",
   "pygments_lexer": "ipython3",
   "version": "3.12.4"
  }
 },
 "nbformat": 4,
 "nbformat_minor": 2
}
